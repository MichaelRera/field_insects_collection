{
 "cells": [
  {
   "cell_type": "code",
   "execution_count": 1,
   "id": "f1849c4d-af72-4bf6-94ef-a3441ce2a9a9",
   "metadata": {},
   "outputs": [],
   "source": [
    "library(ggplot2)"
   ]
  },
  {
   "cell_type": "code",
   "execution_count": 2,
   "id": "da17fd63-b419-4edf-b2fa-a3f3fae7e715",
   "metadata": {},
   "outputs": [
    {
     "data": {
      "text/html": [
       "<table class=\"dataframe\">\n",
       "<caption>A matrix: 6 × 2 of type dbl</caption>\n",
       "<thead>\n",
       "\t<tr><th scope=col>time_points</th><th scope=col>prop_surv</th></tr>\n",
       "</thead>\n",
       "<tbody>\n",
       "\t<tr><td> 1.00</td><td>1.000000</td></tr>\n",
       "\t<tr><td>10.00</td><td>0.993944</td></tr>\n",
       "\t<tr><td>11.00</td><td>0.990484</td></tr>\n",
       "\t<tr><td>11.88</td><td>0.972318</td></tr>\n",
       "\t<tr><td>12.00</td><td>0.962802</td></tr>\n",
       "\t<tr><td>12.13</td><td>0.950692</td></tr>\n",
       "</tbody>\n",
       "</table>\n"
      ],
      "text/latex": [
       "A matrix: 6 × 2 of type dbl\n",
       "\\begin{tabular}{ll}\n",
       " time\\_points & prop\\_surv\\\\\n",
       "\\hline\n",
       "\t  1.00 & 1.000000\\\\\n",
       "\t 10.00 & 0.993944\\\\\n",
       "\t 11.00 & 0.990484\\\\\n",
       "\t 11.88 & 0.972318\\\\\n",
       "\t 12.00 & 0.962802\\\\\n",
       "\t 12.13 & 0.950692\\\\\n",
       "\\end{tabular}\n"
      ],
      "text/markdown": [
       "\n",
       "A matrix: 6 × 2 of type dbl\n",
       "\n",
       "| time_points | prop_surv |\n",
       "|---|---|\n",
       "|  1.00 | 1.000000 |\n",
       "| 10.00 | 0.993944 |\n",
       "| 11.00 | 0.990484 |\n",
       "| 11.88 | 0.972318 |\n",
       "| 12.00 | 0.962802 |\n",
       "| 12.13 | 0.950692 |\n",
       "\n"
      ],
      "text/plain": [
       "     time_points prop_surv\n",
       "[1,]  1.00       1.000000 \n",
       "[2,] 10.00       0.993944 \n",
       "[3,] 11.00       0.990484 \n",
       "[4,] 11.88       0.972318 \n",
       "[5,] 12.00       0.962802 \n",
       "[6,] 12.13       0.950692 "
      ]
     },
     "metadata": {},
     "output_type": "display_data"
    }
   ],
   "source": [
    "time_points <- c(1,10,11,11.88,12,12.13,12.88,12.96,13.88,14.29,14.88,15.29,16,16.29,16.88,17,17.04,18.04,18.17,18.29,18.88,19.04,19.21,20,20.04,20.17,21.08,21.92,22.08,22.13,23,23.04,23.13,23.71,24.13,24.75,24.96,25.17,25.83,26.17,26.33,26.83,27.17,27.21,27.96,28.21,28.96,29.17,29.25,29.79,30.21,30.25,30.83,31.08,31.25,31.75,32.21,32.29,32.79,33.25,33.29,33.79,34.17,34.33,35.04,35.25,36.04,36.17,36.38,36.79,37.17,37.38,38,38.17,39,39.13,39.38,39.88,40.33,40.92,41.17,41.38,41.92,42.17,43.17,42.38,43.42,42.75,43.92,44.25,44.42,44.92,45.04,45.42,45.79,46.17,46.46,46.71,46.96,47.67,48.46,48.79,49.83,50.04,50.79,51,51.46,51.79,52.33,53.21,55)\n",
    "prop_surv <- c(1,0.993944,0.990484,0.972318,0.962802,0.950692,0.945501,0.936851,0.922145,0.9074394,0.897923,0.827854,0.821799307958478,0.816608996539792,0.81401384083045,0.805363321799308,0.785467128027682,0.778546712802768,0.773356401384083,0.771626297577855,0.744809688581315,0.737024221453287,0.730103806228374,0.688581314878893,0.681660899653979,0.664359861591695,0.655709342560554,0.646193771626298,0.636678200692042,0.624567474048443,0.617647058823529,0.607266435986159,0.609861591695502,0.588235294117647,0.579584775086505,0.576124567474048,0.559688581314879,0.557093425605536,0.540657439446367,0.529411764705882,0.519896193771626,0.515570934256055,0.511245674740484,0.491349480968858,0.474913494809689,0.464532871972318,0.459342560553633,0.455017301038062,0.453287197231834,0.440311418685121,0.42560553633218,0.419550173010381,0.410899653979239,0.396193771626298,0.389273356401384,0.377162629757785,0.353806228373702,0.345155709342561,0.326989619377163,0.318339100346021,0.312283737024221,0.308823529411765,0.295847750865052,0.292387543252595,0.27681660899654,0.269031141868512,0.256055363321799,0.237889273356401,0.227508650519031,0.220588235294118,0.205882352941176,0.200692041522491,0.189446366782007,0.191176470588235,0.182525951557093,0.146193771626298,0.136678200692042,0.116782006920415,0.114186851211073,0.109861591695502,0.102076124567474,0.0986159169550173,0.0934256055363322,0.0813148788927336,0.0717993079584775,0.0596885813148789,0.0588235294117647,0.0536332179930796,0.0467128027681661,0.0423875432525952,0.0406574394463668,0.0380622837370242,0.0311418685121107,0.0311418685121107,0.0285467128027682,0.0268166089965398,0.0259515570934256,0.0216262975778547,0.0216262975778547,0.0181660899653979,0.0173010380622837,0.0173010380622837,0.0121107266435986,0.0121107266435986,0.0121107266435986,0.0112456747404844,0.0112456747404844,0.00951557093425606,0.0069204152249135,0.0069204152249135,0)\n",
    "surv_data <- cbind(time_points,prop_surv)\n",
    "head(surv_data)"
   ]
  },
  {
   "cell_type": "code",
   "execution_count": 3,
   "id": "98daf36c-c9ed-4e74-8a72-9073fd050042",
   "metadata": {},
   "outputs": [
    {
     "data": {
      "image/png": "[encoded data removed]",
      "text/plain": [
       "plot without title"
      ]
     },
     "metadata": {
      "image/png": {
       "height": 420,
       "width": 420
      }
     },
     "output_type": "display_data"
    }
   ],
   "source": [
    "plot(surv_data[,1], surv_data[,2])"
   ]
  },
  {
   "cell_type": "code",
   "execution_count": 4,
   "id": "ad845fdd-bc00-49ab-ad34-5288819483ca",
   "metadata": {},
   "outputs": [],
   "source": [
    "N <- 10000\n",
    "a <- 0.0039\n",
    "t0 <- 8\n",
    "k <- 0.1911\n",
    "max_s_prop <- 0.7\n",
    "age_max <- 70\n",
    "age_step <- 1"
   ]
  },
  {
   "cell_type": "code",
   "execution_count": 8,
   "id": "c174768c-1548-4cd6-a5b1-07ddeade1182",
   "metadata": {},
   "outputs": [],
   "source": [
    "## setting up the initial table for number of non-Smurfs, proportion and number of Smurfs\n",
    "#pop <- matrix(,nrow=4,ncol=age_max)\n",
    "#rownames(pop)<-c(\"age\",\"Smurf_prop\",\"n_NS\",\"n_S\")\n",
    "#pop[1,]<- seq(0,age_max-1,age_step)\n",
    "## for fitting data\n",
    "pop <- matrix(,nrow=4,ncol=length(surv_data[,1]))\n",
    "rownames(pop)<-c(\"age\",\"Smurf_prop\",\"n_NS\",\"n_S\")\n",
    "pop[1,]<- surv_data[,1]"
   ]
  },
  {
   "cell_type": "code",
   "execution_count": 12,
   "id": "aaca3363-c08d-4566-afd4-3c7452512353",
   "metadata": {},
   "outputs": [
    {
     "data": {
      "text/html": [
       "<table class=\"dataframe\">\n",
       "<caption>A matrix: 4 × 107 of type dbl</caption>\n",
       "<tbody>\n",
       "\t<tr><th scope=row>age</th><td>1.000000e+00</td><td>10</td><td>11</td><td>11.88</td><td>12</td><td>12.13</td><td>12.88</td><td>12.96</td><td>13.88</td><td>14.290000000</td><td>⋯</td><td>46.71</td><td>46.96</td><td>47.67</td><td>48.46</td><td>48.79</td><td>49.83</td><td>50.04</td><td>50.79</td><td>51</td><td>51.46</td></tr>\n",
       "\t<tr><th scope=row>Smurf_prop</th><td>4.508657e-07</td><td>NA</td><td>NA</td><td>   NA</td><td>NA</td><td>   NA</td><td>   NA</td><td>   NA</td><td>   NA</td><td> 0.002998247</td><td>⋯</td><td>   NA</td><td>   NA</td><td>   NA</td><td>   NA</td><td>   NA</td><td>   NA</td><td>   NA</td><td>   NA</td><td>NA</td><td>   NA</td></tr>\n",
       "\t<tr><th scope=row>n_NS</th><td>1.000000e+04</td><td>NA</td><td>NA</td><td>   NA</td><td>NA</td><td>   NA</td><td>   NA</td><td>   NA</td><td>   NA</td><td>          NA</td><td>⋯</td><td>   NA</td><td>   NA</td><td>   NA</td><td>   NA</td><td>   NA</td><td>   NA</td><td>   NA</td><td>   NA</td><td>NA</td><td>   NA</td></tr>\n",
       "\t<tr><th scope=row>n_S</th><td>0.000000e+00</td><td>NA</td><td>NA</td><td>   NA</td><td>NA</td><td>   NA</td><td>   NA</td><td>   NA</td><td>   NA</td><td>          NA</td><td>⋯</td><td>   NA</td><td>   NA</td><td>   NA</td><td>   NA</td><td>   NA</td><td>   NA</td><td>   NA</td><td>   NA</td><td>NA</td><td>   NA</td></tr>\n",
       "</tbody>\n",
       "</table>\n"
      ],
      "text/latex": [
       "A matrix: 4 × 107 of type dbl\n",
       "\\begin{tabular}{r|lllllllllllllllllllll}\n",
       "\tage & 1.000000e+00 & 10 & 11 & 11.88 & 12 & 12.13 & 12.88 & 12.96 & 13.88 & 14.290000000 & ⋯ & 46.71 & 46.96 & 47.67 & 48.46 & 48.79 & 49.83 & 50.04 & 50.79 & 51 & 51.46\\\\\n",
       "\tSmurf\\_prop & 4.508657e-07 & NA & NA &    NA & NA &    NA &    NA &    NA &    NA &  0.002998247 & ⋯ &    NA &    NA &    NA &    NA &    NA &    NA &    NA &    NA & NA &    NA\\\\\n",
       "\tn\\_NS & 1.000000e+04 & NA & NA &    NA & NA &    NA &    NA &    NA &    NA &           NA & ⋯ &    NA &    NA &    NA &    NA &    NA &    NA &    NA &    NA & NA &    NA\\\\\n",
       "\tn\\_S & 0.000000e+00 & NA & NA &    NA & NA &    NA &    NA &    NA &    NA &           NA & ⋯ &    NA &    NA &    NA &    NA &    NA &    NA &    NA &    NA & NA &    NA\\\\\n",
       "\\end{tabular}\n"
      ],
      "text/markdown": [
       "\n",
       "A matrix: 4 × 107 of type dbl\n",
       "\n",
       "| age | 1.000000e+00 | 10 | 11 | 11.88 | 12 | 12.13 | 12.88 | 12.96 | 13.88 | 14.290000000 | ⋯ | 46.71 | 46.96 | 47.67 | 48.46 | 48.79 | 49.83 | 50.04 | 50.79 | 51 | 51.46 |\n",
       "| Smurf_prop | 4.508657e-07 | NA | NA |    NA | NA |    NA |    NA |    NA |    NA |  0.002998247 | ⋯ |    NA |    NA |    NA |    NA |    NA |    NA |    NA |    NA | NA |    NA |\n",
       "| n_NS | 1.000000e+04 | NA | NA |    NA | NA |    NA |    NA |    NA |    NA |           NA | ⋯ |    NA |    NA |    NA |    NA |    NA |    NA |    NA |    NA | NA |    NA |\n",
       "| n_S | 0.000000e+00 | NA | NA |    NA | NA |    NA |    NA |    NA |    NA |           NA | ⋯ |    NA |    NA |    NA |    NA |    NA |    NA |    NA |    NA | NA |    NA |\n",
       "\n"
      ],
      "text/plain": [
       "           [,1]         [,2] [,3] [,4]  [,5] [,6]  [,7]  [,8]  [,9] \n",
       "age        1.000000e+00 10   11   11.88 12   12.13 12.88 12.96 13.88\n",
       "Smurf_prop 4.508657e-07 NA   NA      NA NA      NA    NA    NA    NA\n",
       "n_NS       1.000000e+04 NA   NA      NA NA      NA    NA    NA    NA\n",
       "n_S        0.000000e+00 NA   NA      NA NA      NA    NA    NA    NA\n",
       "           [,10]        [,11] [,12] [,13] [,14] [,15] [,16] [,17] [,18] [,19]\n",
       "age        14.290000000 ⋯     46.71 46.96 47.67 48.46 48.79 49.83 50.04 50.79\n",
       "Smurf_prop  0.002998247 ⋯        NA    NA    NA    NA    NA    NA    NA    NA\n",
       "n_NS                 NA ⋯        NA    NA    NA    NA    NA    NA    NA    NA\n",
       "n_S                  NA ⋯        NA    NA    NA    NA    NA    NA    NA    NA\n",
       "           [,20] [,21]\n",
       "age        51    51.46\n",
       "Smurf_prop NA       NA\n",
       "n_NS       NA       NA\n",
       "n_S        NA       NA"
      ]
     },
     "metadata": {},
     "output_type": "display_data"
    }
   ],
   "source": [
    "cbind.na <- function(x, y){\n",
    "    n <- max(length(x), length(y))\n",
    "    length(x) <- n                      \n",
    "    length(y) <- n\n",
    "    combined<-cbind(x,y)\n",
    "    combined[which(is.na(combined))]<-0\n",
    "    return(combined)\n",
    "}\n",
    "\n",
    "Smurf <- function(age){\n",
    "    age_func <- a*age*exp(-t0/age)\n",
    "    smurf_prop <- ifelse(age_func>0, ifelse(age_func<max_s_prop,runif(1,0,age_func*2),runif(1,0,max_s_prop)),0)\n",
    "    return(smurf_prop)\n",
    "    }\n",
    "\n",
    "pop[3,1]<-N\n",
    "for(i in pop[1,]){\n",
    "    pop[2,i]<-Smurf(i)\n",
    "}\n",
    "pop[4,1]<-round(pop[3,1]*pop[2,1], 0)\n",
    "i=0\n",
    "for(j in 2:length(pop[2,])){\n",
    "   i=i+1 \n",
    "   pop[4,j]<-round(pop[3,i]*pop[2,j] ,0)\n",
    "   pop[3,j]<-pop[3,i]-pop[4,j] \n",
    "}\n",
    "pop<-pop[,-length(pop[1,])]\n",
    "pop\n",
    "\n",
    "kill_Smurfs <- function(n_S){\n",
    "    dyingSmurfs <- NA\n",
    "    dyingSmurfs[1]<-round(n_S-n_S*exp(-k),0)\n",
    "    i<-1\n",
    "    while(n_S>0){\n",
    "        i=i+1\n",
    "        n_S<-dyingSmurfs[i-1]\n",
    "        dyingSmurfs[i]<-round(n_S-n_S*exp(-k),0)\n",
    "    }\n",
    "    return(dyingSmurfs)\n",
    "}"
   ]
  },
  {
   "cell_type": "code",
   "execution_count": 21,
   "id": "c163302d-2960-4f00-a96e-5ff565dce253",
   "metadata": {
    "scrolled": true,
    "tags": []
   },
   "outputs": [
    {
     "name": "stderr",
     "output_type": "stream",
     "text": [
      "Warning message in cbind(x, y):\n",
      "“number of rows of result is not a multiple of vector length (arg 2)”\n",
      "Warning message in cbind(x, y):\n",
      "“number of rows of result is not a multiple of vector length (arg 2)”\n",
      "Warning message in cbind(x, y):\n",
      "“number of rows of result is not a multiple of vector length (arg 2)”\n",
      "Warning message in cbind(x, y):\n",
      "“number of rows of result is not a multiple of vector length (arg 2)”\n",
      "Warning message in cbind(x, y):\n",
      "“number of rows of result is not a multiple of vector length (arg 2)”\n",
      "Warning message in cbind(x, y):\n",
      "“number of rows of result is not a multiple of vector length (arg 2)”\n",
      "Warning message in cbind(x, y):\n",
      "“number of rows of result is not a multiple of vector length (arg 2)”\n",
      "Warning message in cbind(x, y):\n",
      "“number of rows of result is not a multiple of vector length (arg 2)”\n",
      "Warning message in cbind(x, y):\n",
      "“number of rows of result is not a multiple of vector length (arg 2)”\n",
      "Warning message in cbind(x, y):\n",
      "“number of rows of result is not a multiple of vector length (arg 2)”\n",
      "Warning message in cbind(x, y):\n",
      "“number of rows of result is not a multiple of vector length (arg 2)”\n",
      "Warning message in cbind(x, y):\n",
      "“number of rows of result is not a multiple of vector length (arg 2)”\n",
      "Warning message in cbind(x, y):\n",
      "“number of rows of result is not a multiple of vector length (arg 2)”\n",
      "Warning message in cbind(x, y):\n",
      "“number of rows of result is not a multiple of vector length (arg 2)”\n",
      "Warning message in cbind(x, y):\n",
      "“number of rows of result is not a multiple of vector length (arg 2)”\n",
      "Warning message in cbind(x, y):\n",
      "“number of rows of result is not a multiple of vector length (arg 2)”\n",
      "Warning message in cbind(x, y):\n",
      "“number of rows of result is not a multiple of vector length (arg 2)”\n",
      "Warning message in cbind(x, y):\n",
      "“number of rows of result is not a multiple of vector length (arg 2)”\n",
      "Warning message in cbind(x, y):\n",
      "“number of rows of result is not a multiple of vector length (arg 2)”\n",
      "Warning message in cbind(x, y):\n",
      "“number of rows of result is not a multiple of vector length (arg 2)”\n",
      "Warning message in cbind(x, y):\n",
      "“number of rows of result is not a multiple of vector length (arg 2)”\n",
      "Warning message in cbind(x, y):\n",
      "“number of rows of result is not a multiple of vector length (arg 2)”\n",
      "Warning message in cbind(x, y):\n",
      "“number of rows of result is not a multiple of vector length (arg 2)”\n",
      "Warning message in cbind(x, y):\n",
      "“number of rows of result is not a multiple of vector length (arg 2)”\n",
      "Warning message in cbind(x, y):\n",
      "“number of rows of result is not a multiple of vector length (arg 2)”\n",
      "Warning message in cbind(x, y):\n",
      "“number of rows of result is not a multiple of vector length (arg 2)”\n",
      "Warning message in cbind(x, y):\n",
      "“number of rows of result is not a multiple of vector length (arg 2)”\n",
      "Warning message in cbind(x, y):\n",
      "“number of rows of result is not a multiple of vector length (arg 2)”\n",
      "Warning message in cbind(x, y):\n",
      "“number of rows of result is not a multiple of vector length (arg 2)”\n",
      "Warning message in cbind(x, y):\n",
      "“number of rows of result is not a multiple of vector length (arg 2)”\n",
      "Warning message in cbind(x, y):\n",
      "“number of rows of result is not a multiple of vector length (arg 2)”\n",
      "Warning message in cbind(x, y):\n",
      "“number of rows of result is not a multiple of vector length (arg 2)”\n",
      "Warning message in cbind(x, y):\n",
      "“number of rows of result is not a multiple of vector length (arg 2)”\n",
      "Warning message in cbind(x, y):\n",
      "“number of rows of result is not a multiple of vector length (arg 2)”\n",
      "Warning message in cbind(x, y):\n",
      "“number of rows of result is not a multiple of vector length (arg 2)”\n",
      "Warning message in cbind(x, y):\n",
      "“number of rows of result is not a multiple of vector length (arg 2)”\n",
      "Warning message in cbind(x, y):\n",
      "“number of rows of result is not a multiple of vector length (arg 2)”\n",
      "Warning message in cbind(x, y):\n",
      "“number of rows of result is not a multiple of vector length (arg 2)”\n",
      "Warning message in cbind(x, y):\n",
      "“number of rows of result is not a multiple of vector length (arg 2)”\n",
      "Warning message in cbind(x, y):\n",
      "“number of rows of result is not a multiple of vector length (arg 2)”\n",
      "Warning message in cbind(x, y):\n",
      "“number of rows of result is not a multiple of vector length (arg 2)”\n",
      "Warning message in cbind(x, y):\n",
      "“number of rows of result is not a multiple of vector length (arg 2)”\n",
      "Warning message in cbind(x, y):\n",
      "“number of rows of result is not a multiple of vector length (arg 2)”\n",
      "Warning message in cbind(x, y):\n",
      "“number of rows of result is not a multiple of vector length (arg 2)”\n",
      "Warning message in cbind(x, y):\n",
      "“number of rows of result is not a multiple of vector length (arg 2)”\n",
      "Warning message in cbind(x, y):\n",
      "“number of rows of result is not a multiple of vector length (arg 2)”\n",
      "Warning message in cbind(x, y):\n",
      "“number of rows of result is not a multiple of vector length (arg 2)”\n",
      "Warning message in cbind(x, y):\n",
      "“number of rows of result is not a multiple of vector length (arg 2)”\n",
      "Warning message in cbind(x, y):\n",
      "“number of rows of result is not a multiple of vector length (arg 2)”\n",
      "Warning message in cbind(x, y):\n",
      "“number of rows of result is not a multiple of vector length (arg 2)”\n",
      "Warning message in cbind(x, y):\n",
      "“number of rows of result is not a multiple of vector length (arg 2)”\n",
      "Warning message in cbind(x, y):\n",
      "“number of rows of result is not a multiple of vector length (arg 2)”\n",
      "Warning message in cbind(x, y):\n",
      "“number of rows of result is not a multiple of vector length (arg 2)”\n",
      "Warning message in cbind(x, y):\n",
      "“number of rows of result is not a multiple of vector length (arg 2)”\n",
      "Warning message in cbind(x, y):\n",
      "“number of rows of result is not a multiple of vector length (arg 2)”\n",
      "Warning message in cbind(x, y):\n",
      "“number of rows of result is not a multiple of vector length (arg 2)”\n",
      "Warning message in cbind(x, y):\n",
      "“number of rows of result is not a multiple of vector length (arg 2)”\n",
      "Warning message in cbind(x, y):\n",
      "“number of rows of result is not a multiple of vector length (arg 2)”\n",
      "Warning message in cbind(x, y):\n",
      "“number of rows of result is not a multiple of vector length (arg 2)”\n",
      "Warning message in cbind(x, y):\n",
      "“number of rows of result is not a multiple of vector length (arg 2)”\n",
      "Warning message in cbind(x, y):\n",
      "“number of rows of result is not a multiple of vector length (arg 2)”\n",
      "Warning message in cbind(x, y):\n",
      "“number of rows of result is not a multiple of vector length (arg 2)”\n",
      "Warning message in cbind(x, y):\n",
      "“number of rows of result is not a multiple of vector length (arg 2)”\n",
      "Warning message in cbind(x, y):\n",
      "“number of rows of result is not a multiple of vector length (arg 2)”\n",
      "Warning message in cbind(x, y):\n",
      "“number of rows of result is not a multiple of vector length (arg 2)”\n",
      "Warning message in cbind(x, y):\n",
      "“number of rows of result is not a multiple of vector length (arg 2)”\n",
      "Warning message in cbind(x, y):\n",
      "“number of rows of result is not a multiple of vector length (arg 2)”\n"
     ]
    }
   ],
   "source": [
    "Smurf_death<-kill_Smurfs(pop[4,1])\n",
    "length(Smurf_death)<-10; Smurf_death[which(is.na(Smurf_death))]<-0\n",
    "for(i in pop[4,2:length(pop[4,])]){\n",
    "    Smurf_death<-cbind.na(Smurf_death,kill_Smurfs(i))\n",
    "}\n",
    "Smurf_death<-cbind(pop[4,],t(Smurf_death))\n",
    "Smurf_death[is.na(Smurf_death)]<-0\n",
    "Smurf_death<-as.data.frame(Smurf_death)\n",
    "rownames(Smurf_death)<-pop[1,]\n",
    "colnames(Smurf_death)<-seq(1:length(Smurf_death[1,]))\n",
    "#Smurf_death"
   ]
  },
  {
   "cell_type": "code",
   "execution_count": 22,
   "id": "2176bda4-81bc-4788-9097-66575fa4cd73",
   "metadata": {},
   "outputs": [],
   "source": [
    "Smurfs_dyn<-NA\n",
    "length(Smurfs_dyn)<-80\n",
    "for(i in 1:length(Smurf_death[,1])){\n",
    "    temp<-c(rep(NA,i-1),Smurf_death[i,])\n",
    "    length(temp)<-80\n",
    "    Smurfs_dyn<-rbind(Smurfs_dyn,temp)\n",
    "    }\n",
    "Smurfs_dyn<-as.data.frame(Smurfs_dyn[-1,])\n",
    "colnames(Smurfs_dyn)<-seq(1,80,1)\n",
    "rownames(Smurfs_dyn)<-pop[1,]\n",
    "Smurfs_dyn[,1:80][Smurfs_dyn[,1:80] == \"NULL\"] <- 0\n",
    "#Smurfs_dyn"
   ]
  },
  {
   "cell_type": "code",
   "execution_count": 23,
   "id": "bc1f2685-0b2b-45a3-b568-c7d5dc138ede",
   "metadata": {},
   "outputs": [
    {
     "data": {
      "text/html": [
       "<table class=\"dataframe\">\n",
       "<caption>A matrix: 5 × 69 of type dbl</caption>\n",
       "<tbody>\n",
       "\t<tr><th scope=row>age</th><td>    0</td><td>    1</td><td>    2</td><td>    3</td><td>    4</td><td>    5</td><td>    6</td><td>    7</td><td>8.000000e+00</td><td>9.000000e+00</td><td>⋯</td><td>59.000000000</td><td>60.00000000</td><td>6.100000e+01</td><td>62.0000000</td><td>63.00000000</td><td>64.0000000</td><td>65.00000000</td><td>66.0000000</td><td>67.0000000</td><td>68.00000</td></tr>\n",
       "\t<tr><th scope=row>Smurf_prop</th><td>    0</td><td>    0</td><td>    0</td><td>    0</td><td>    0</td><td>    0</td><td>    0</td><td>    0</td><td>7.148862e-03</td><td>2.547035e-04</td><td>⋯</td><td> 0.009349038</td><td> 0.02100487</td><td>6.932955e-04</td><td> 0.4266733</td><td> 0.04740692</td><td> 0.4428875</td><td> 0.08397171</td><td> 0.4057711</td><td> 0.2249791</td><td> 0.25783</td></tr>\n",
       "\t<tr><th scope=row>n_NS</th><td>10000</td><td>10000</td><td>10000</td><td>10000</td><td>10000</td><td>10000</td><td>10000</td><td>10000</td><td>9.929000e+03</td><td>9.926000e+03</td><td>⋯</td><td>25.000000000</td><td>24.00000000</td><td>2.400000e+01</td><td>14.0000000</td><td>13.00000000</td><td> 7.0000000</td><td> 6.00000000</td><td> 4.0000000</td><td> 3.0000000</td><td> 2.00000</td></tr>\n",
       "\t<tr><th scope=row>n_S</th><td>    0</td><td>    0</td><td>    0</td><td>    0</td><td>    0</td><td>    0</td><td>    0</td><td>    0</td><td>7.100000e+01</td><td>3.000000e+00</td><td>⋯</td><td> 0.000000000</td><td> 1.00000000</td><td>0.000000e+00</td><td>10.0000000</td><td> 1.00000000</td><td> 6.0000000</td><td> 1.00000000</td><td> 2.0000000</td><td> 1.0000000</td><td> 1.00000</td></tr>\n",
       "\t<tr><th scope=row>S_alive</th><td>    0</td><td>    0</td><td>    0</td><td>    0</td><td>    0</td><td>    0</td><td>    0</td><td>    0</td><td>7.100000e+01</td><td>1.500000e+01</td><td>⋯</td><td> 3.000000000</td><td> 2.00000000</td><td>0.000000e+00</td><td>10.0000000</td><td> 3.00000000</td><td> 6.0000000</td><td> 2.00000000</td><td> 2.0000000</td><td> 1.0000000</td><td> 1.00000</td></tr>\n",
       "</tbody>\n",
       "</table>\n"
      ],
      "text/latex": [
       "A matrix: 5 × 69 of type dbl\n",
       "\\begin{tabular}{r|lllllllllllllllllllll}\n",
       "\tage &     0 &     1 &     2 &     3 &     4 &     5 &     6 &     7 & 8.000000e+00 & 9.000000e+00 & ⋯ & 59.000000000 & 60.00000000 & 6.100000e+01 & 62.0000000 & 63.00000000 & 64.0000000 & 65.00000000 & 66.0000000 & 67.0000000 & 68.00000\\\\\n",
       "\tSmurf\\_prop &     0 &     0 &     0 &     0 &     0 &     0 &     0 &     0 & 7.148862e-03 & 2.547035e-04 & ⋯ &  0.009349038 &  0.02100487 & 6.932955e-04 &  0.4266733 &  0.04740692 &  0.4428875 &  0.08397171 &  0.4057711 &  0.2249791 &  0.25783\\\\\n",
       "\tn\\_NS & 10000 & 10000 & 10000 & 10000 & 10000 & 10000 & 10000 & 10000 & 9.929000e+03 & 9.926000e+03 & ⋯ & 25.000000000 & 24.00000000 & 2.400000e+01 & 14.0000000 & 13.00000000 &  7.0000000 &  6.00000000 &  4.0000000 &  3.0000000 &  2.00000\\\\\n",
       "\tn\\_S &     0 &     0 &     0 &     0 &     0 &     0 &     0 &     0 & 7.100000e+01 & 3.000000e+00 & ⋯ &  0.000000000 &  1.00000000 & 0.000000e+00 & 10.0000000 &  1.00000000 &  6.0000000 &  1.00000000 &  2.0000000 &  1.0000000 &  1.00000\\\\\n",
       "\tS\\_alive &     0 &     0 &     0 &     0 &     0 &     0 &     0 &     0 & 7.100000e+01 & 1.500000e+01 & ⋯ &  3.000000000 &  2.00000000 & 0.000000e+00 & 10.0000000 &  3.00000000 &  6.0000000 &  2.00000000 &  2.0000000 &  1.0000000 &  1.00000\\\\\n",
       "\\end{tabular}\n"
      ],
      "text/markdown": [
       "\n",
       "A matrix: 5 × 69 of type dbl\n",
       "\n",
       "| age |     0 |     1 |     2 |     3 |     4 |     5 |     6 |     7 | 8.000000e+00 | 9.000000e+00 | ⋯ | 59.000000000 | 60.00000000 | 6.100000e+01 | 62.0000000 | 63.00000000 | 64.0000000 | 65.00000000 | 66.0000000 | 67.0000000 | 68.00000 |\n",
       "| Smurf_prop |     0 |     0 |     0 |     0 |     0 |     0 |     0 |     0 | 7.148862e-03 | 2.547035e-04 | ⋯ |  0.009349038 |  0.02100487 | 6.932955e-04 |  0.4266733 |  0.04740692 |  0.4428875 |  0.08397171 |  0.4057711 |  0.2249791 |  0.25783 |\n",
       "| n_NS | 10000 | 10000 | 10000 | 10000 | 10000 | 10000 | 10000 | 10000 | 9.929000e+03 | 9.926000e+03 | ⋯ | 25.000000000 | 24.00000000 | 2.400000e+01 | 14.0000000 | 13.00000000 |  7.0000000 |  6.00000000 |  4.0000000 |  3.0000000 |  2.00000 |\n",
       "| n_S |     0 |     0 |     0 |     0 |     0 |     0 |     0 |     0 | 7.100000e+01 | 3.000000e+00 | ⋯ |  0.000000000 |  1.00000000 | 0.000000e+00 | 10.0000000 |  1.00000000 |  6.0000000 |  1.00000000 |  2.0000000 |  1.0000000 |  1.00000 |\n",
       "| S_alive |     0 |     0 |     0 |     0 |     0 |     0 |     0 |     0 | 7.100000e+01 | 1.500000e+01 | ⋯ |  3.000000000 |  2.00000000 | 0.000000e+00 | 10.0000000 |  3.00000000 |  6.0000000 |  2.00000000 |  2.0000000 |  1.0000000 |  1.00000 |\n",
       "\n"
      ],
      "text/plain": [
       "           [,1]  [,2]  [,3]  [,4]  [,5]  [,6]  [,7]  [,8]  [,9]        \n",
       "age            0     1     2     3     4     5     6     7 8.000000e+00\n",
       "Smurf_prop     0     0     0     0     0     0     0     0 7.148862e-03\n",
       "n_NS       10000 10000 10000 10000 10000 10000 10000 10000 9.929000e+03\n",
       "n_S            0     0     0     0     0     0     0     0 7.100000e+01\n",
       "S_alive        0     0     0     0     0     0     0     0 7.100000e+01\n",
       "           [,10]        [,11] [,12]        [,13]       [,14]        [,15]     \n",
       "age        9.000000e+00 ⋯     59.000000000 60.00000000 6.100000e+01 62.0000000\n",
       "Smurf_prop 2.547035e-04 ⋯      0.009349038  0.02100487 6.932955e-04  0.4266733\n",
       "n_NS       9.926000e+03 ⋯     25.000000000 24.00000000 2.400000e+01 14.0000000\n",
       "n_S        3.000000e+00 ⋯      0.000000000  1.00000000 0.000000e+00 10.0000000\n",
       "S_alive    1.500000e+01 ⋯      3.000000000  2.00000000 0.000000e+00 10.0000000\n",
       "           [,16]       [,17]      [,18]       [,19]      [,20]      [,21]   \n",
       "age        63.00000000 64.0000000 65.00000000 66.0000000 67.0000000 68.00000\n",
       "Smurf_prop  0.04740692  0.4428875  0.08397171  0.4057711  0.2249791  0.25783\n",
       "n_NS       13.00000000  7.0000000  6.00000000  4.0000000  3.0000000  2.00000\n",
       "n_S         1.00000000  6.0000000  1.00000000  2.0000000  1.0000000  1.00000\n",
       "S_alive     3.00000000  6.0000000  2.00000000  2.0000000  1.0000000  1.00000"
      ]
     },
     "metadata": {},
     "output_type": "display_data"
    }
   ],
   "source": [
    "Smurfs_alive<-NA\n",
    "length(Smurfs_alive)<-80\n",
    "for(i in 1:80){Smurfs_alive[i]=sum(as.numeric(Smurfs_dyn[,i]),na.rm=TRUE)}\n",
    "pop<-rbind(pop,t(Smurfs_alive[1:69]))\n",
    "rownames(pop)<-c(\"age\",\"Smurf_prop\",\"n_NS\",\"n_S\",\"S_alive\")\n",
    "pop"
   ]
  },
  {
   "cell_type": "code",
   "execution_count": 10,
   "id": "385255ba-09ad-4e43-af4a-8d3aa7d8cdcd",
   "metadata": {},
   "outputs": [
    {
     "data": {
      "text/html": [
       "<table class=\"dataframe\">\n",
       "<caption>A data.frame: 6 × 2</caption>\n",
       "<thead>\n",
       "\t<tr><th></th><th scope=col>timeAsSmurf</th><th scope=col>Smurfs_alive</th></tr>\n",
       "\t<tr><th></th><th scope=col>&lt;dbl&gt;</th><th scope=col>&lt;dbl&gt;</th></tr>\n",
       "</thead>\n",
       "<tbody>\n",
       "\t<tr><th scope=row>1</th><td>1</td><td>9998</td></tr>\n",
       "\t<tr><th scope=row>2</th><td>2</td><td>1734</td></tr>\n",
       "\t<tr><th scope=row>3</th><td>3</td><td> 305</td></tr>\n",
       "\t<tr><th scope=row>4</th><td>4</td><td>  50</td></tr>\n",
       "\t<tr><th scope=row>5</th><td>5</td><td>   7</td></tr>\n",
       "\t<tr><th scope=row>6</th><td>6</td><td>   0</td></tr>\n",
       "</tbody>\n",
       "</table>\n"
      ],
      "text/latex": [
       "A data.frame: 6 × 2\n",
       "\\begin{tabular}{r|ll}\n",
       "  & timeAsSmurf & Smurfs\\_alive\\\\\n",
       "  & <dbl> & <dbl>\\\\\n",
       "\\hline\n",
       "\t1 & 1 & 9998\\\\\n",
       "\t2 & 2 & 1734\\\\\n",
       "\t3 & 3 &  305\\\\\n",
       "\t4 & 4 &   50\\\\\n",
       "\t5 & 5 &    7\\\\\n",
       "\t6 & 6 &    0\\\\\n",
       "\\end{tabular}\n"
      ],
      "text/markdown": [
       "\n",
       "A data.frame: 6 × 2\n",
       "\n",
       "| <!--/--> | timeAsSmurf &lt;dbl&gt; | Smurfs_alive &lt;dbl&gt; |\n",
       "|---|---|---|\n",
       "| 1 | 1 | 9998 |\n",
       "| 2 | 2 | 1734 |\n",
       "| 3 | 3 |  305 |\n",
       "| 4 | 4 |   50 |\n",
       "| 5 | 5 |    7 |\n",
       "| 6 | 6 |    0 |\n",
       "\n"
      ],
      "text/plain": [
       "  timeAsSmurf Smurfs_alive\n",
       "1 1           9998        \n",
       "2 2           1734        \n",
       "3 3            305        \n",
       "4 4             50        \n",
       "5 5              7        \n",
       "6 6              0        "
      ]
     },
     "metadata": {},
     "output_type": "display_data"
    }
   ],
   "source": [
    "Smurf_surv<-as.data.frame(apply(Smurf_death,2,sum))\n",
    "Smurf_surv<-cbind(as.numeric(colnames(Smurf_death)),Smurf_surv)\n",
    "rownames(Smurf_surv)<-NULL\n",
    "colnames(Smurf_surv)<-c(\"timeAsSmurf\",\"Smurfs_alive\")\n",
    "head(Smurf_surv)"
   ]
  },
  {
   "cell_type": "code",
   "execution_count": 11,
   "id": "845bb70c-d255-4cc1-9a9c-1989aa458dc5",
   "metadata": {},
   "outputs": [
    {
     "data": {
      "image/png": "[encoded data removed]",
      "text/plain": [
       "plot without title"
      ]
     },
     "metadata": {
      "image/png": {
       "height": 420,
       "width": 420
      }
     },
     "output_type": "display_data"
    }
   ],
   "source": [
    "#Smurf survival curve\n",
    "ggplot(Smurf_surv, aes(timeAsSmurf, Smurfs_alive))+\n",
    "    geom_line()"
   ]
  },
  {
   "cell_type": "code",
   "execution_count": 13,
   "id": "14c768ee-3c89-4247-a46d-e28002629149",
   "metadata": {},
   "outputs": [],
   "source": [
    "pop<-as.data.frame(t(pop))"
   ]
  },
  {
   "cell_type": "code",
   "execution_count": 14,
   "id": "350b639c-f657-47ae-b03a-dc413b69cf04",
   "metadata": {},
   "outputs": [],
   "source": [
    "age_max<-68"
   ]
  },
  {
   "cell_type": "code",
   "execution_count": 15,
   "id": "f7a1010b-ad4a-470f-ac67-e7be00fcbb40",
   "metadata": {},
   "outputs": [
    {
     "name": "stderr",
     "output_type": "stream",
     "text": [
      "ERROR while rich displaying an object: Error in FUN(X[[i]], ...): object 'S_alive' not found\n",
      "\n",
      "Traceback:\n",
      "1. tryCatch(withCallingHandlers({\n",
      " .     if (!mime %in% names(repr::mime2repr)) \n",
      " .         stop(\"No repr_* for mimetype \", mime, \" in repr::mime2repr\")\n",
      " .     rpr <- repr::mime2repr[[mime]](obj)\n",
      " .     if (is.null(rpr)) \n",
      " .         return(NULL)\n",
      " .     prepare_content(is.raw(rpr), rpr)\n",
      " . }, error = error_handler), error = outer_handler)\n",
      "2. tryCatchList(expr, classes, parentenv, handlers)\n",
      "3. tryCatchOne(expr, names, parentenv, handlers[[1L]])\n",
      "4. doTryCatch(return(expr), name, parentenv, handler)\n",
      "5. withCallingHandlers({\n",
      " .     if (!mime %in% names(repr::mime2repr)) \n",
      " .         stop(\"No repr_* for mimetype \", mime, \" in repr::mime2repr\")\n",
      " .     rpr <- repr::mime2repr[[mime]](obj)\n",
      " .     if (is.null(rpr)) \n",
      " .         return(NULL)\n",
      " .     prepare_content(is.raw(rpr), rpr)\n",
      " . }, error = error_handler)\n",
      "6. repr::mime2repr[[mime]](obj)\n",
      "7. repr_text.default(obj)\n",
      "8. paste(capture.output(print(obj)), collapse = \"\\n\")\n",
      "9. capture.output(print(obj))\n",
      "10. evalVis(expr)\n",
      "11. withVisible(eval(expr, pf))\n",
      "12. eval(expr, pf)\n",
      "13. eval(expr, pf)\n",
      "14. print(obj)\n",
      "15. print.ggplot(obj)\n",
      "16. ggplot_build(x)\n",
      "17. ggplot_build.ggplot(x)\n",
      "18. by_layer(function(l, d) l$compute_aesthetics(d, plot))\n",
      "19. f(l = layers[[i]], d = data[[i]])\n",
      "20. l$compute_aesthetics(d, plot)\n",
      "21. f(..., self = self)\n",
      "22. lapply(aesthetics, eval_tidy, data = data, env = env)\n",
      "23. FUN(X[[i]], ...)\n"
     ]
    },
    {
     "data": {
      "image/png": "[encoded data removed]",
      "text/plain": [
       "plot without title"
      ]
     },
     "metadata": {
      "image/png": {
       "height": 420,
       "width": 420
      }
     },
     "output_type": "display_data"
    }
   ],
   "source": [
    "ggplot(pop)+\n",
    "    geom_line(aes(age,n_NS), linetype=\"dashed\")+\n",
    "    geom_line(aes(age,n_S), color=\"blue\")+\n",
    "    geom_line(aes(age,S_alive), color=\"dark blue\", linetype=\"dashed\")+\n",
    "    geom_line(aes(age,n_NS+S_alive))+\n",
    "    xlim(0,age_max)"
   ]
  },
  {
   "cell_type": "code",
   "execution_count": 16,
   "id": "39bdf8b8-c9df-4d81-ad9e-71a947380d66",
   "metadata": {},
   "outputs": [
    {
     "name": "stderr",
     "output_type": "stream",
     "text": [
      "ERROR while rich displaying an object: Error in FUN(X[[i]], ...): object 'S_alive' not found\n",
      "\n",
      "Traceback:\n",
      "1. tryCatch(withCallingHandlers({\n",
      " .     if (!mime %in% names(repr::mime2repr)) \n",
      " .         stop(\"No repr_* for mimetype \", mime, \" in repr::mime2repr\")\n",
      " .     rpr <- repr::mime2repr[[mime]](obj)\n",
      " .     if (is.null(rpr)) \n",
      " .         return(NULL)\n",
      " .     prepare_content(is.raw(rpr), rpr)\n",
      " . }, error = error_handler), error = outer_handler)\n",
      "2. tryCatchList(expr, classes, parentenv, handlers)\n",
      "3. tryCatchOne(expr, names, parentenv, handlers[[1L]])\n",
      "4. doTryCatch(return(expr), name, parentenv, handler)\n",
      "5. withCallingHandlers({\n",
      " .     if (!mime %in% names(repr::mime2repr)) \n",
      " .         stop(\"No repr_* for mimetype \", mime, \" in repr::mime2repr\")\n",
      " .     rpr <- repr::mime2repr[[mime]](obj)\n",
      " .     if (is.null(rpr)) \n",
      " .         return(NULL)\n",
      " .     prepare_content(is.raw(rpr), rpr)\n",
      " . }, error = error_handler)\n",
      "6. repr::mime2repr[[mime]](obj)\n",
      "7. repr_text.default(obj)\n",
      "8. paste(capture.output(print(obj)), collapse = \"\\n\")\n",
      "9. capture.output(print(obj))\n",
      "10. evalVis(expr)\n",
      "11. withVisible(eval(expr, pf))\n",
      "12. eval(expr, pf)\n",
      "13. eval(expr, pf)\n",
      "14. print(obj)\n",
      "15. print.ggplot(obj)\n",
      "16. ggplot_build(x)\n",
      "17. ggplot_build.ggplot(x)\n",
      "18. by_layer(function(l, d) l$compute_aesthetics(d, plot))\n",
      "19. f(l = layers[[i]], d = data[[i]])\n",
      "20. l$compute_aesthetics(d, plot)\n",
      "21. f(..., self = self)\n",
      "22. lapply(aesthetics, eval_tidy, data = data, env = env)\n",
      "23. FUN(X[[i]], ...)\n"
     ]
    },
    {
     "data": {
      "image/png": "[encoded data removed]",
      "text/plain": [
       "plot without title"
      ]
     },
     "metadata": {
      "image/png": {
       "height": 420,
       "width": 420
      }
     },
     "output_type": "display_data"
    }
   ],
   "source": [
    "ggplot(pop)+\n",
    "    geom_point(aes(x=age,y=S_alive/(S_alive+n_NS)), color=\"blue\")+\n",
    "    geom_smooth(aes(x=age,y=S_alive/(S_alive+n_NS)))+\n",
    "    ylim(0,1)+\n",
    "    xlim(0,age_max)  "
   ]
  },
  {
   "cell_type": "code",
   "execution_count": null,
   "id": "eeac47a1-680a-4211-85ea-5cc03529f81a",
   "metadata": {},
   "outputs": [],
   "source": []
  },
  {
   "cell_type": "code",
   "execution_count": null,
   "id": "74392b28-27df-4838-8881-5932f3d1224c",
   "metadata": {},
   "outputs": [],
   "source": []
  }
 ],
 "metadata": {
  "kernelspec": {
   "display_name": "R",
   "language": "R",
   "name": "ir"
  },
  "language_info": {
   "codemirror_mode": "r",
   "file_extension": ".r",
   "mimetype": "text/x-r-source",
   "name": "R",
   "pygments_lexer": "r",
   "version": "3.5.0"
  }
 },
 "nbformat": 4,
 "nbformat_minor": 5
}

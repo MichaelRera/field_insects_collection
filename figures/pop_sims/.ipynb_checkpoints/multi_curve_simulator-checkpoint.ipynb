{
 "cells": [
  {
   "cell_type": "code",
   "execution_count": 2,
   "id": "f1849c4d-af72-4bf6-94ef-a3441ce2a9a9",
   "metadata": {},
   "outputs": [],
   "source": [
    "library(ggplot2)"
   ]
  },
  {
   "cell_type": "code",
   "execution_count": 45,
   "id": "ad845fdd-bc00-49ab-ad34-5288819483ca",
   "metadata": {},
   "outputs": [],
   "source": [
    "N <- 10000\n",
    "a <- 0.012\n",
    "b <- -0.09\n",
    "k <- function(n=1){\n",
    "        k<-runif(n,0.16,0.25)\n",
    "        return(k)\n",
    "        }\n",
    "max_s_prop <- 0.7\n",
    "age_max <- 70\n",
    "age_step <- 1\n",
    "N_iter=10"
   ]
  },
  {
   "cell_type": "code",
   "execution_count": 46,
   "id": "5928c945-b0e9-4d5c-9a18-a475c7c6df7a",
   "metadata": {},
   "outputs": [],
   "source": [
    "multi_sim <- function(N,a,b,k,max_s_prop,age_max,age_step,N_iter){\n",
    "    multipop<-NA\n",
    "    for(replicats in 1:N_iter){\n",
    "        pop <- matrix(,nrow=4,ncol=age_max)\n",
    "        rownames(pop)<-c(\"age\",\"Smurf_prop\",\"n_NS\",\"n_S\")\n",
    "        pop[1,]<- seq(0,age_max-1,age_step)\n",
    "        cbind.na <- function(x, y){\n",
    "            n <- max(length(x), length(y))\n",
    "            length(x) <- n              \n",
    "            length(y) <- n\n",
    "            combined<-cbind(x,y)\n",
    "            combined[which(is.na(combined))]<-0\n",
    "            return(combined)\n",
    "        }\n",
    "\n",
    "        Smurf <- function(age){\n",
    "            age_func <- a*age+b\n",
    "            smurf_prop <- ifelse(age_func>0, ifelse(age_func<max_s_prop,runif(1,0,age_func*2),runif(1,0,max_s_prop)),0)\n",
    "            return(smurf_prop)\n",
    "        }\n",
    "\n",
    "    pop[3,1]<-N\n",
    "    for(i in pop[1,]){pop[2,i]<-Smurf(i)}\n",
    "    pop[4,1]<-round(pop[3,1]*pop[2,1], 0)\n",
    "    i=0\n",
    "    for(j in 2:length(pop[2,])){\n",
    "       i=i+1 \n",
    "       pop[4,j]<-round(pop[3,i]*pop[2,j] ,0)\n",
    "       pop[3,j]<-pop[3,i]-pop[4,j] \n",
    "    }\n",
    "    pop<-pop[,-length(pop[1,])]\n",
    "    #pop\n",
    "\n",
    "    kill_Smurfs <- function(n_S){\n",
    "        dyingSmurfs <- NA\n",
    "        dyingSmurfs[1]<-round(n_S-n_S*exp(-k()),0)\n",
    "        i<-1\n",
    "        while(n_S>0){\n",
    "            i=i+1\n",
    "            n_S<-dyingSmurfs[i-1]\n",
    "            dyingSmurfs[i]<-round(n_S-n_S*exp(-k()),0)\n",
    "        }\n",
    "        return(dyingSmurfs)\n",
    "    }\n",
    "\n",
    "\n",
    "Smurf_death<-kill_Smurfs(pop[4,1])\n",
    "length(Smurf_death)<-10; Smurf_death[which(is.na(Smurf_death))]<-0\n",
    "for(i in pop[4,2:length(pop[4,])]){\n",
    "    Smurf_death<-cbind.na(Smurf_death,kill_Smurfs(i))\n",
    "}\n",
    "Smurf_death<-cbind(pop[4,],t(Smurf_death))\n",
    "Smurf_death[is.na(Smurf_death)]<-0\n",
    "Smurf_death<-as.data.frame(Smurf_death)\n",
    "rownames(Smurf_death)<-pop[1,]\n",
    "colnames(Smurf_death)<-seq(1:length(Smurf_death[1,]))\n",
    "#Smurf_death\n",
    "\n",
    "Smurfs_dyn<-NA\n",
    "length(Smurfs_dyn)<-80\n",
    "for(i in 1:length(Smurf_death[,1])){\n",
    "    temp<-c(rep(NA,i-1),Smurf_death[i,])\n",
    "    length(temp)<-80\n",
    "    Smurfs_dyn<-rbind(Smurfs_dyn,temp)\n",
    "    }\n",
    "Smurfs_dyn<-as.data.frame(Smurfs_dyn[-1,])\n",
    "colnames(Smurfs_dyn)<-seq(1,80,1)\n",
    "rownames(Smurfs_dyn)<-pop[1,]\n",
    "Smurfs_dyn[,1:80][Smurfs_dyn[,1:80] == \"NULL\"] <- 0\n",
    "#Smurfs_dyn\n",
    "\n",
    "Smurfs_alive<-NA\n",
    "length(Smurfs_alive)<-80\n",
    "for(i in 1:80){Smurfs_alive[i]=sum(as.numeric(Smurfs_dyn[,i]),na.rm=TRUE)}\n",
    "pop<-rbind(pop,t(Smurfs_alive[1:69]))\n",
    "rownames(pop)<-c(\"age\",\"Smurf_prop\",\"n_NS\",\"n_S\",\"S_alive\")\n",
    "#pop\n",
    "\n",
    "Smurf_surv<-as.data.frame(apply(Smurf_death,2,sum))\n",
    "Smurf_surv<-cbind(as.numeric(colnames(Smurf_death)),Smurf_surv)\n",
    "rownames(Smurf_surv)<-NULL\n",
    "colnames(Smurf_surv)<-c(\"timeAsSmurf\",\"Smurfs_alive\")\n",
    "#head(Smurf_surv)\n",
    "        multipop<-rbind(multipop,pop)\n",
    "#return(pop)\n",
    "}\n",
    "multipop<-multipop[-1,]\n",
    "return(multipop)\n",
    "}"
   ]
  },
  {
   "cell_type": "code",
   "execution_count": 47,
   "id": "db93a179-1a64-4c2b-a15b-f55d2756b21e",
   "metadata": {},
   "outputs": [
    {
     "data": {
      "text/html": [
       "<table>\n",
       "<tbody>\n",
       "\t<tr><th scope=row>age</th><td>    0       </td><td>    1       </td><td>    2       </td><td>    3       </td><td>    4       </td><td>    5       </td><td>    6       </td><td>7.000000e+00</td><td>8.000000e+00</td><td>9.000000e+00</td><td>...         </td><td>59.0000000  </td><td>60.00000000 </td><td>61.0000000  </td><td>62.0000000  </td><td>63.0000000  </td><td>64.0000000  </td><td>65.0000000  </td><td>66.0000000  </td><td>67.0000000  </td><td>68.0000000  </td></tr>\n",
       "\t<tr><th scope=row>Smurf_prop</th><td>    0       </td><td>    0       </td><td>    0       </td><td>    0       </td><td>    0       </td><td>    0       </td><td>    0       </td><td>6.548778e-03</td><td>1.805697e-02</td><td>3.993967e-02</td><td>...         </td><td> 0.1826912  </td><td> 0.06386917 </td><td> 0.7030265  </td><td> 0.8982545  </td><td> 0.4759625  </td><td> 0.1384171  </td><td> 0.2189074  </td><td> 0.3146570  </td><td> 0.0940893  </td><td> 0.3379586  </td></tr>\n",
       "\t<tr><th scope=row>n_NS</th><td>10000       </td><td>10000       </td><td>10000       </td><td>10000       </td><td>10000       </td><td>10000       </td><td>10000       </td><td>9.935000e+03</td><td>9.756000e+03</td><td>9.366000e+03</td><td>...         </td><td> 0.0000000  </td><td> 0.00000000 </td><td> 0.0000000  </td><td> 0.0000000  </td><td> 0.0000000  </td><td> 0.0000000  </td><td> 0.0000000  </td><td> 0.0000000  </td><td> 0.0000000  </td><td> 0.0000000  </td></tr>\n",
       "\t<tr><th scope=row>n_S</th><td>    0       </td><td>    0       </td><td>    0       </td><td>    0       </td><td>    0       </td><td>    0       </td><td>    0       </td><td>6.500000e+01</td><td>1.790000e+02</td><td>3.900000e+02</td><td>...         </td><td> 0.0000000  </td><td> 0.00000000 </td><td> 0.0000000  </td><td> 0.0000000  </td><td> 0.0000000  </td><td> 0.0000000  </td><td> 0.0000000  </td><td> 0.0000000  </td><td> 0.0000000  </td><td> 0.0000000  </td></tr>\n",
       "\t<tr><th scope=row>S_alive</th><td>    0       </td><td>    0       </td><td>    0       </td><td>    0       </td><td>    0       </td><td>    0       </td><td>    0       </td><td>6.500000e+01</td><td>1.920000e+02</td><td>4.300000e+02</td><td>...         </td><td> 0.0000000  </td><td> 0.00000000 </td><td> 0.0000000  </td><td> 0.0000000  </td><td> 0.0000000  </td><td> 0.0000000  </td><td> 0.0000000  </td><td> 0.0000000  </td><td> 0.0000000  </td><td> 0.0000000  </td></tr>\n",
       "\t<tr><th scope=row>age</th><td>    0       </td><td>    1       </td><td>    2       </td><td>    3       </td><td>    4       </td><td>    5       </td><td>    6       </td><td>7.000000e+00</td><td>8.000000e+00</td><td>9.000000e+00</td><td>...         </td><td>59.0000000  </td><td>60.00000000 </td><td>61.0000000  </td><td>62.0000000  </td><td>63.0000000  </td><td>64.0000000  </td><td>65.0000000  </td><td>66.0000000  </td><td>67.0000000  </td><td>68.0000000  </td></tr>\n",
       "\t<tr><th scope=row>Smurf_prop</th><td>    0       </td><td>    0       </td><td>    0       </td><td>    0       </td><td>    0       </td><td>    0       </td><td>    0       </td><td>3.770912e-03</td><td>1.687004e-02</td><td>5.819761e-02</td><td>...         </td><td> 0.5303135  </td><td> 0.02086103 </td><td> 0.8863180  </td><td> 0.3094322  </td><td> 0.9510938  </td><td> 0.7420028  </td><td> 0.5794692  </td><td> 0.5809197  </td><td> 0.6995616  </td><td> 0.5443430  </td></tr>\n",
       "\t<tr><th scope=row>n_NS</th><td>10000       </td><td>10000       </td><td>10000       </td><td>10000       </td><td>10000       </td><td>10000       </td><td>10000       </td><td>9.962000e+03</td><td>9.794000e+03</td><td>9.224000e+03</td><td>...         </td><td> 0.0000000  </td><td> 0.00000000 </td><td> 0.0000000  </td><td> 0.0000000  </td><td> 0.0000000  </td><td> 0.0000000  </td><td> 0.0000000  </td><td> 0.0000000  </td><td> 0.0000000  </td><td> 0.0000000  </td></tr>\n",
       "\t<tr><th scope=row>n_S</th><td>    0       </td><td>    0       </td><td>    0       </td><td>    0       </td><td>    0       </td><td>    0       </td><td>    0       </td><td>3.800000e+01</td><td>1.680000e+02</td><td>5.700000e+02</td><td>...         </td><td> 0.0000000  </td><td> 0.00000000 </td><td> 0.0000000  </td><td> 0.0000000  </td><td> 0.0000000  </td><td> 0.0000000  </td><td> 0.0000000  </td><td> 0.0000000  </td><td> 0.0000000  </td><td> 0.0000000  </td></tr>\n",
       "\t<tr><th scope=row>S_alive</th><td>    0       </td><td>    0       </td><td>    0       </td><td>    0       </td><td>    0       </td><td>    0       </td><td>    0       </td><td>3.800000e+01</td><td>1.760000e+02</td><td>6.020000e+02</td><td>...         </td><td> 0.0000000  </td><td> 0.00000000 </td><td> 0.0000000  </td><td> 0.0000000  </td><td> 0.0000000  </td><td> 0.0000000  </td><td> 0.0000000  </td><td> 0.0000000  </td><td> 0.0000000  </td><td> 0.0000000  </td></tr>\n",
       "</tbody>\n",
       "</table>\n"
      ],
      "text/latex": [
       "\\begin{tabular}{r|lllllllllllllllllllllllllllllllllllllllllllllllllllllllllllllllllllll}\n",
       "\tage &     0        &     1        &     2        &     3        &     4        &     5        &     6        & 7.000000e+00 & 8.000000e+00 & 9.000000e+00 & ...          & 59.0000000   & 60.00000000  & 61.0000000   & 62.0000000   & 63.0000000   & 64.0000000   & 65.0000000   & 66.0000000   & 67.0000000   & 68.0000000  \\\\\n",
       "\tSmurf\\_prop &     0        &     0        &     0        &     0        &     0        &     0        &     0        & 6.548778e-03 & 1.805697e-02 & 3.993967e-02 & ...          &  0.1826912   &  0.06386917  &  0.7030265   &  0.8982545   &  0.4759625   &  0.1384171   &  0.2189074   &  0.3146570   &  0.0940893   &  0.3379586  \\\\\n",
       "\tn\\_NS & 10000        & 10000        & 10000        & 10000        & 10000        & 10000        & 10000        & 9.935000e+03 & 9.756000e+03 & 9.366000e+03 & ...          &  0.0000000   &  0.00000000  &  0.0000000   &  0.0000000   &  0.0000000   &  0.0000000   &  0.0000000   &  0.0000000   &  0.0000000   &  0.0000000  \\\\\n",
       "\tn\\_S &     0        &     0        &     0        &     0        &     0        &     0        &     0        & 6.500000e+01 & 1.790000e+02 & 3.900000e+02 & ...          &  0.0000000   &  0.00000000  &  0.0000000   &  0.0000000   &  0.0000000   &  0.0000000   &  0.0000000   &  0.0000000   &  0.0000000   &  0.0000000  \\\\\n",
       "\tS\\_alive &     0        &     0        &     0        &     0        &     0        &     0        &     0        & 6.500000e+01 & 1.920000e+02 & 4.300000e+02 & ...          &  0.0000000   &  0.00000000  &  0.0000000   &  0.0000000   &  0.0000000   &  0.0000000   &  0.0000000   &  0.0000000   &  0.0000000   &  0.0000000  \\\\\n",
       "\tage &     0        &     1        &     2        &     3        &     4        &     5        &     6        & 7.000000e+00 & 8.000000e+00 & 9.000000e+00 & ...          & 59.0000000   & 60.00000000  & 61.0000000   & 62.0000000   & 63.0000000   & 64.0000000   & 65.0000000   & 66.0000000   & 67.0000000   & 68.0000000  \\\\\n",
       "\tSmurf\\_prop &     0        &     0        &     0        &     0        &     0        &     0        &     0        & 3.770912e-03 & 1.687004e-02 & 5.819761e-02 & ...          &  0.5303135   &  0.02086103  &  0.8863180   &  0.3094322   &  0.9510938   &  0.7420028   &  0.5794692   &  0.5809197   &  0.6995616   &  0.5443430  \\\\\n",
       "\tn\\_NS & 10000        & 10000        & 10000        & 10000        & 10000        & 10000        & 10000        & 9.962000e+03 & 9.794000e+03 & 9.224000e+03 & ...          &  0.0000000   &  0.00000000  &  0.0000000   &  0.0000000   &  0.0000000   &  0.0000000   &  0.0000000   &  0.0000000   &  0.0000000   &  0.0000000  \\\\\n",
       "\tn\\_S &     0        &     0        &     0        &     0        &     0        &     0        &     0        & 3.800000e+01 & 1.680000e+02 & 5.700000e+02 & ...          &  0.0000000   &  0.00000000  &  0.0000000   &  0.0000000   &  0.0000000   &  0.0000000   &  0.0000000   &  0.0000000   &  0.0000000   &  0.0000000  \\\\\n",
       "\tS\\_alive &     0        &     0        &     0        &     0        &     0        &     0        &     0        & 3.800000e+01 & 1.760000e+02 & 6.020000e+02 & ...          &  0.0000000   &  0.00000000  &  0.0000000   &  0.0000000   &  0.0000000   &  0.0000000   &  0.0000000   &  0.0000000   &  0.0000000   &  0.0000000  \\\\\n",
       "\\end{tabular}\n"
      ],
      "text/markdown": [
       "\n",
       "| age |     0        |     1        |     2        |     3        |     4        |     5        |     6        | 7.000000e+00 | 8.000000e+00 | 9.000000e+00 | ...          | 59.0000000   | 60.00000000  | 61.0000000   | 62.0000000   | 63.0000000   | 64.0000000   | 65.0000000   | 66.0000000   | 67.0000000   | 68.0000000   |\n",
       "| Smurf_prop |     0        |     0        |     0        |     0        |     0        |     0        |     0        | 6.548778e-03 | 1.805697e-02 | 3.993967e-02 | ...          |  0.1826912   |  0.06386917  |  0.7030265   |  0.8982545   |  0.4759625   |  0.1384171   |  0.2189074   |  0.3146570   |  0.0940893   |  0.3379586   |\n",
       "| n_NS | 10000        | 10000        | 10000        | 10000        | 10000        | 10000        | 10000        | 9.935000e+03 | 9.756000e+03 | 9.366000e+03 | ...          |  0.0000000   |  0.00000000  |  0.0000000   |  0.0000000   |  0.0000000   |  0.0000000   |  0.0000000   |  0.0000000   |  0.0000000   |  0.0000000   |\n",
       "| n_S |     0        |     0        |     0        |     0        |     0        |     0        |     0        | 6.500000e+01 | 1.790000e+02 | 3.900000e+02 | ...          |  0.0000000   |  0.00000000  |  0.0000000   |  0.0000000   |  0.0000000   |  0.0000000   |  0.0000000   |  0.0000000   |  0.0000000   |  0.0000000   |\n",
       "| S_alive |     0        |     0        |     0        |     0        |     0        |     0        |     0        | 6.500000e+01 | 1.920000e+02 | 4.300000e+02 | ...          |  0.0000000   |  0.00000000  |  0.0000000   |  0.0000000   |  0.0000000   |  0.0000000   |  0.0000000   |  0.0000000   |  0.0000000   |  0.0000000   |\n",
       "| age |     0        |     1        |     2        |     3        |     4        |     5        |     6        | 7.000000e+00 | 8.000000e+00 | 9.000000e+00 | ...          | 59.0000000   | 60.00000000  | 61.0000000   | 62.0000000   | 63.0000000   | 64.0000000   | 65.0000000   | 66.0000000   | 67.0000000   | 68.0000000   |\n",
       "| Smurf_prop |     0        |     0        |     0        |     0        |     0        |     0        |     0        | 3.770912e-03 | 1.687004e-02 | 5.819761e-02 | ...          |  0.5303135   |  0.02086103  |  0.8863180   |  0.3094322   |  0.9510938   |  0.7420028   |  0.5794692   |  0.5809197   |  0.6995616   |  0.5443430   |\n",
       "| n_NS | 10000        | 10000        | 10000        | 10000        | 10000        | 10000        | 10000        | 9.962000e+03 | 9.794000e+03 | 9.224000e+03 | ...          |  0.0000000   |  0.00000000  |  0.0000000   |  0.0000000   |  0.0000000   |  0.0000000   |  0.0000000   |  0.0000000   |  0.0000000   |  0.0000000   |\n",
       "| n_S |     0        |     0        |     0        |     0        |     0        |     0        |     0        | 3.800000e+01 | 1.680000e+02 | 5.700000e+02 | ...          |  0.0000000   |  0.00000000  |  0.0000000   |  0.0000000   |  0.0000000   |  0.0000000   |  0.0000000   |  0.0000000   |  0.0000000   |  0.0000000   |\n",
       "| S_alive |     0        |     0        |     0        |     0        |     0        |     0        |     0        | 3.800000e+01 | 1.760000e+02 | 6.020000e+02 | ...          |  0.0000000   |  0.00000000  |  0.0000000   |  0.0000000   |  0.0000000   |  0.0000000   |  0.0000000   |  0.0000000   |  0.0000000   |  0.0000000   |\n",
       "\n"
      ],
      "text/plain": [
       "           [,1]  [,2]  [,3]  [,4]  [,5]  [,6]  [,7]  [,8]         [,9]        \n",
       "age            0     1     2     3     4     5     6 7.000000e+00 8.000000e+00\n",
       "Smurf_prop     0     0     0     0     0     0     0 6.548778e-03 1.805697e-02\n",
       "n_NS       10000 10000 10000 10000 10000 10000 10000 9.935000e+03 9.756000e+03\n",
       "n_S            0     0     0     0     0     0     0 6.500000e+01 1.790000e+02\n",
       "S_alive        0     0     0     0     0     0     0 6.500000e+01 1.920000e+02\n",
       "age            0     1     2     3     4     5     6 7.000000e+00 8.000000e+00\n",
       "Smurf_prop     0     0     0     0     0     0     0 3.770912e-03 1.687004e-02\n",
       "n_NS       10000 10000 10000 10000 10000 10000 10000 9.962000e+03 9.794000e+03\n",
       "n_S            0     0     0     0     0     0     0 3.800000e+01 1.680000e+02\n",
       "S_alive        0     0     0     0     0     0     0 3.800000e+01 1.760000e+02\n",
       "           [,10]        [,11] [,12]      [,13]       [,14]      [,15]     \n",
       "age        9.000000e+00 ...   59.0000000 60.00000000 61.0000000 62.0000000\n",
       "Smurf_prop 3.993967e-02 ...    0.1826912  0.06386917  0.7030265  0.8982545\n",
       "n_NS       9.366000e+03 ...    0.0000000  0.00000000  0.0000000  0.0000000\n",
       "n_S        3.900000e+02 ...    0.0000000  0.00000000  0.0000000  0.0000000\n",
       "S_alive    4.300000e+02 ...    0.0000000  0.00000000  0.0000000  0.0000000\n",
       "age        9.000000e+00 ...   59.0000000 60.00000000 61.0000000 62.0000000\n",
       "Smurf_prop 5.819761e-02 ...    0.5303135  0.02086103  0.8863180  0.3094322\n",
       "n_NS       9.224000e+03 ...    0.0000000  0.00000000  0.0000000  0.0000000\n",
       "n_S        5.700000e+02 ...    0.0000000  0.00000000  0.0000000  0.0000000\n",
       "S_alive    6.020000e+02 ...    0.0000000  0.00000000  0.0000000  0.0000000\n",
       "           [,16]      [,17]      [,18]      [,19]      [,20]      [,21]     \n",
       "age        63.0000000 64.0000000 65.0000000 66.0000000 67.0000000 68.0000000\n",
       "Smurf_prop  0.4759625  0.1384171  0.2189074  0.3146570  0.0940893  0.3379586\n",
       "n_NS        0.0000000  0.0000000  0.0000000  0.0000000  0.0000000  0.0000000\n",
       "n_S         0.0000000  0.0000000  0.0000000  0.0000000  0.0000000  0.0000000\n",
       "S_alive     0.0000000  0.0000000  0.0000000  0.0000000  0.0000000  0.0000000\n",
       "age        63.0000000 64.0000000 65.0000000 66.0000000 67.0000000 68.0000000\n",
       "Smurf_prop  0.9510938  0.7420028  0.5794692  0.5809197  0.6995616  0.5443430\n",
       "n_NS        0.0000000  0.0000000  0.0000000  0.0000000  0.0000000  0.0000000\n",
       "n_S         0.0000000  0.0000000  0.0000000  0.0000000  0.0000000  0.0000000\n",
       "S_alive     0.0000000  0.0000000  0.0000000  0.0000000  0.0000000  0.0000000"
      ]
     },
     "metadata": {},
     "output_type": "display_data"
    }
   ],
   "source": [
    "suppressWarnings(multi_sim(N,a,b,k,max_s_prop,age_max,age_step, N_iter=2))"
   ]
  },
  {
   "cell_type": "code",
   "execution_count": 36,
   "id": "abcb6352-c19b-4693-9724-50bd7e4572e5",
   "metadata": {},
   "outputs": [],
   "source": [
    "sims<-as.data.frame(t(sims))\n",
    "age_max<-min(sims$age[which(sims$n_NS<1)])"
   ]
  },
  {
   "cell_type": "code",
   "execution_count": null,
   "id": "f7a1010b-ad4a-470f-ac67-e7be00fcbb40",
   "metadata": {},
   "outputs": [],
   "source": [
    "ggplot(multipop)+\n",
    "    geom_line(aes(age,n_NS), linetype=\"dashed\")+\n",
    "    geom_line(aes(age,n_S), color=\"blue\")+\n",
    "    geom_line(aes(age,S_alive), color=\"dark blue\", linetype=\"dashed\")+\n",
    "    geom_line(aes(age,n_NS+S_alive))+\n",
    "    xlim(0,age_max)"
   ]
  },
  {
   "cell_type": "code",
   "execution_count": 38,
   "id": "a9f62f51-a137-4f2c-a815-54b1efd86d4d",
   "metadata": {},
   "outputs": [
    {
     "data": {
      "text/html": [
       "<table>\n",
       "<thead><tr><th scope=col>age</th><th scope=col>Smurf_prop</th><th scope=col>n_NS</th><th scope=col>n_S</th><th scope=col>S_alive</th><th scope=col>age</th><th scope=col>Smurf_prop</th><th scope=col>n_NS</th><th scope=col>n_S</th><th scope=col>S_alive</th></tr></thead>\n",
       "<tbody>\n",
       "\t<tr><td>0    </td><td>0    </td><td>10000</td><td>0    </td><td>0    </td><td>0    </td><td>0    </td><td>10000</td><td>0    </td><td>0    </td></tr>\n",
       "\t<tr><td>1    </td><td>0    </td><td>10000</td><td>0    </td><td>0    </td><td>1    </td><td>0    </td><td>10000</td><td>0    </td><td>0    </td></tr>\n",
       "\t<tr><td>2    </td><td>0    </td><td>10000</td><td>0    </td><td>0    </td><td>2    </td><td>0    </td><td>10000</td><td>0    </td><td>0    </td></tr>\n",
       "\t<tr><td>3    </td><td>0    </td><td>10000</td><td>0    </td><td>0    </td><td>3    </td><td>0    </td><td>10000</td><td>0    </td><td>0    </td></tr>\n",
       "\t<tr><td>4    </td><td>0    </td><td>10000</td><td>0    </td><td>0    </td><td>4    </td><td>0    </td><td>10000</td><td>0    </td><td>0    </td></tr>\n",
       "\t<tr><td>5    </td><td>0    </td><td>10000</td><td>0    </td><td>0    </td><td>5    </td><td>0    </td><td>10000</td><td>0    </td><td>0    </td></tr>\n",
       "</tbody>\n",
       "</table>\n"
      ],
      "text/latex": [
       "\\begin{tabular}{r|llllllllll}\n",
       " age & Smurf\\_prop & n\\_NS & n\\_S & S\\_alive & age & Smurf\\_prop & n\\_NS & n\\_S & S\\_alive\\\\\n",
       "\\hline\n",
       "\t 0     & 0     & 10000 & 0     & 0     & 0     & 0     & 10000 & 0     & 0    \\\\\n",
       "\t 1     & 0     & 10000 & 0     & 0     & 1     & 0     & 10000 & 0     & 0    \\\\\n",
       "\t 2     & 0     & 10000 & 0     & 0     & 2     & 0     & 10000 & 0     & 0    \\\\\n",
       "\t 3     & 0     & 10000 & 0     & 0     & 3     & 0     & 10000 & 0     & 0    \\\\\n",
       "\t 4     & 0     & 10000 & 0     & 0     & 4     & 0     & 10000 & 0     & 0    \\\\\n",
       "\t 5     & 0     & 10000 & 0     & 0     & 5     & 0     & 10000 & 0     & 0    \\\\\n",
       "\\end{tabular}\n"
      ],
      "text/markdown": [
       "\n",
       "| age | Smurf_prop | n_NS | n_S | S_alive | age | Smurf_prop | n_NS | n_S | S_alive |\n",
       "|---|---|---|---|---|---|---|---|---|---|\n",
       "| 0     | 0     | 10000 | 0     | 0     | 0     | 0     | 10000 | 0     | 0     |\n",
       "| 1     | 0     | 10000 | 0     | 0     | 1     | 0     | 10000 | 0     | 0     |\n",
       "| 2     | 0     | 10000 | 0     | 0     | 2     | 0     | 10000 | 0     | 0     |\n",
       "| 3     | 0     | 10000 | 0     | 0     | 3     | 0     | 10000 | 0     | 0     |\n",
       "| 4     | 0     | 10000 | 0     | 0     | 4     | 0     | 10000 | 0     | 0     |\n",
       "| 5     | 0     | 10000 | 0     | 0     | 5     | 0     | 10000 | 0     | 0     |\n",
       "\n"
      ],
      "text/plain": [
       "  age Smurf_prop n_NS  n_S S_alive age Smurf_prop n_NS  n_S S_alive\n",
       "1 0   0          10000 0   0       0   0          10000 0   0      \n",
       "2 1   0          10000 0   0       1   0          10000 0   0      \n",
       "3 2   0          10000 0   0       2   0          10000 0   0      \n",
       "4 3   0          10000 0   0       3   0          10000 0   0      \n",
       "5 4   0          10000 0   0       4   0          10000 0   0      \n",
       "6 5   0          10000 0   0       5   0          10000 0   0      "
      ]
     },
     "metadata": {},
     "output_type": "display_data"
    }
   ],
   "source": [
    "head(sims)"
   ]
  },
  {
   "cell_type": "code",
   "execution_count": 23,
   "id": "39bdf8b8-c9df-4d81-ad9e-71a947380d66",
   "metadata": {},
   "outputs": [
    {
     "name": "stderr",
     "output_type": "stream",
     "text": [
      "`geom_smooth()` using method = 'loess' and formula 'y ~ x'\n",
      "Warning message:\n",
      "“Removed 25 rows containing non-finite values (stat_smooth).”Warning message:\n",
      "“Removed 25 rows containing missing values (geom_point).”Warning message:\n",
      "“Removed 8 rows containing missing values (geom_smooth).”"
     ]
    },
    {
     "data": {
      "image/png": "[encoded data removed]",
      "text/plain": [
       "plot without title"
      ]
     },
     "metadata": {},
     "output_type": "display_data"
    }
   ],
   "source": [
    "ggplot(pop)+\n",
    "    geom_point(aes(x=age,y=S_alive/(S_alive+n_NS)), color=\"blue\")+\n",
    "    geom_smooth(aes(x=age,y=S_alive/(S_alive+n_NS)))+\n",
    "    ylim(0,1)+\n",
    "    xlim(0,age_max)  "
   ]
  },
  {
   "cell_type": "code",
   "execution_count": null,
   "id": "eeac47a1-680a-4211-85ea-5cc03529f81a",
   "metadata": {},
   "outputs": [],
   "source": []
  },
  {
   "cell_type": "code",
   "execution_count": null,
   "id": "74392b28-27df-4838-8881-5932f3d1224c",
   "metadata": {},
   "outputs": [],
   "source": []
  }
 ],
 "metadata": {
  "kernelspec": {
   "display_name": "R",
   "language": "R",
   "name": "ir"
  },
  "language_info": {
   "codemirror_mode": "r",
   "file_extension": ".r",
   "mimetype": "text/x-r-source",
   "name": "R",
   "pygments_lexer": "r",
   "version": "3.6.1"
  }
 },
 "nbformat": 4,
 "nbformat_minor": 5
}

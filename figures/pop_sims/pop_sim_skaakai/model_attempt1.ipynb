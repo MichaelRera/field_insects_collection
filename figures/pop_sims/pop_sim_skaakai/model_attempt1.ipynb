{
 "cells": [
  {
   "cell_type": "code",
   "execution_count": 1,
   "id": "1e717a5e",
   "metadata": {
    "tags": []
   },
   "outputs": [
    {
     "name": "stderr",
     "output_type": "stream",
     "text": [
      "\n",
      "Attaching package: ‘IBMPopSim’\n",
      "\n",
      "\n",
      "The following object is masked from ‘package:stats’:\n",
      "\n",
      "    stepfun\n",
      "\n",
      "\n"
     ]
    }
   ],
   "source": [
    "library(IBMPopSim)\n",
    "library(ggplot2)"
   ]
  },
  {
   "cell_type": "code",
   "execution_count": 2,
   "id": "76c4f1ad",
   "metadata": {},
   "outputs": [],
   "source": [
    "#update.packages(checkBuilt=TRUE, ask=FALSE)\n",
    "#install.packages(\"Rcpp\")\n",
    "#install.packages(\"IBMPopSim\")\n",
    "#install.packages(\"devtools\")\n",
    "#install.packages(\"IRkernel\")\n",
    "#IRkernel::installspec()"
   ]
  },
  {
   "cell_type": "code",
   "execution_count": 18,
   "id": "b2109421",
   "metadata": {},
   "outputs": [],
   "source": [
    "pop_init <- data.frame(\"birth\"=rep(0,10), \"death\"=rep(NA,10), \"smurfness\"=rep(0,10))\n",
    "params <- list(\"a\" = 0.015,\n",
    "               \"b\" = -0.09,\n",
    "               \"k_int\" = 0.19,\n",
    "               \"compet\" = 0.00009)\n"
   ]
  },
  {
   "cell_type": "code",
   "execution_count": 4,
   "id": "2abe2544",
   "metadata": {},
   "outputs": [],
   "source": [
    "death_event <- mk_event_individual(name = \"death1\", type = \"death\",\n",
    "    intensity_code = 'if (I.smurfness==0)\n",
    "            result = 0;\n",
    "        else\n",
    "            result = k_int;'\n",
    ")"
   ]
  },
  {
   "cell_type": "code",
   "execution_count": 5,
   "id": "a8d0bd9d-bfbd-40c7-9c2c-86cb12e917cf",
   "metadata": {},
   "outputs": [],
   "source": [
    "death_event2 <- mk_event_interaction(name = \"death2\", type = \"death\", \n",
    "    interaction_code = 'result = compet;'\n",
    ")                                     "
   ]
  },
  {
   "cell_type": "code",
   "execution_count": 13,
   "id": "996d6765-c529-48d8-a8bc-4bf86a175b62",
   "metadata": {},
   "outputs": [],
   "source": [
    "birth_event <- mk_event_individual(type=\"birth\",\n",
    "    intensity_code = 'if (I.smurfness==0)\n",
    "            result = 1;\n",
    "        else\n",
    "            result = 1/15;',\n",
    "    kernel_code = 'newI.smurfness=0;'\n",
    ")"
   ]
  },
  {
   "cell_type": "code",
   "execution_count": 7,
   "id": "5ad43b8e",
   "metadata": {},
   "outputs": [],
   "source": [
    "swap_event <- mk_event_interaction(\n",
    "    type = \"swap\",\n",
    "    interaction_code = 'if (I.smurfness==0)\n",
    "                result = (a*age(I,t)+b)*(1-compet);\n",
    "            else\n",
    "                result = 0;',\n",
    "    kernel_code = 'I.smurfness=1;'\n",
    ")"
   ]
  },
  {
   "cell_type": "code",
   "execution_count": 14,
   "id": "1a4f72fd",
   "metadata": {},
   "outputs": [
    {
     "name": "stdout",
     "output_type": "stream",
     "text": [
      "[1] \"add 'id' as individual attributes\"\n",
      "Events:\n",
      "#1: individual event of type death\n",
      "#2: interaction event of type death\n",
      "#3: interaction event of type swap\n",
      "#4: individual event of type birth\n",
      "--------------------------------------- \n",
      "Individual description:\n",
      "names:  birth death smurfness id \n",
      "R types:  double double double integer \n",
      "C types:  double double double int\n",
      "--------------------------------------- \n",
      "R parameters available in C++ code:\n",
      "names:  a b k_int compet \n",
      "R types:  double double double double \n",
      "C types:  double double double double"
     ]
    }
   ],
   "source": [
    "model <- mk_model(\n",
    "    characteristics = get_characteristics(pop_init),\n",
    "    events = list(death_event, death_event2, swap_event, birth_event),\n",
    "    parameters = params,\n",
    "    with_id = TRUE) #adds individuals IDs\n",
    "\n",
    "summary(model)"
   ]
  },
  {
   "cell_type": "code",
   "execution_count": 15,
   "id": "b07fa1e7-11b8-4dac-8c0c-b97818fa568b",
   "metadata": {},
   "outputs": [],
   "source": [
    "death_max <- params$k_int\n",
    "swap_max <- (params$a*50+params$b)*(1-params$compet)"
   ]
  },
  {
   "cell_type": "code",
   "execution_count": 19,
   "id": "231ba708",
   "metadata": {},
   "outputs": [
    {
     "name": "stdout",
     "output_type": "stream",
     "text": [
      "[1] \"Add 'id' attributes to the population.\"\n",
      "Simulation on  [0, 1]  [1, 2]  [2, 3]  [3, 4]  [4, 5]  [5, 6]  [6, 7]  [7, 8]  [8, 9]  [9, 10] "
     ]
    }
   ],
   "source": [
    "T = 0:10 # Simulation end time \n",
    "\n",
    "\n",
    "sim_out <- popsim(model = model, age_max = 10,\n",
    "  population = pop_init,\n",
    "  events_bounds = c('death1'=death_max,'death2'=params$compet, 'swap'= swap_max, 'birth'= 1),\n",
    "  parameters = params,\n",
    "  time = T)"
   ]
  },
  {
   "cell_type": "code",
   "execution_count": 37,
   "id": "2b7a9787",
   "metadata": {},
   "outputs": [
    {
     "data": {
      "text/html": [
       "<table class=\"dataframe\">\n",
       "<caption>A data.frame: 6 × 103</caption>\n",
       "<thead>\n",
       "\t<tr><th></th><th scope=col>id</th><th scope=col>birth</th><th scope=col>death</th><th scope=col>smurfness_1</th><th scope=col>smurfness_2</th><th scope=col>smurfness_3</th><th scope=col>smurfness_4</th><th scope=col>smurfness_5</th><th scope=col>smurfness_6</th><th scope=col>smurfness_7</th><th scope=col>⋯</th><th scope=col>smurfness_91</th><th scope=col>smurfness_92</th><th scope=col>smurfness_93</th><th scope=col>smurfness_94</th><th scope=col>smurfness_95</th><th scope=col>smurfness_96</th><th scope=col>smurfness_97</th><th scope=col>smurfness_98</th><th scope=col>smurfness_99</th><th scope=col>smurfness_100</th></tr>\n",
       "\t<tr><th></th><th scope=col>&lt;int&gt;</th><th scope=col>&lt;dbl&gt;</th><th scope=col>&lt;dbl&gt;</th><th scope=col>&lt;dbl&gt;</th><th scope=col>&lt;dbl&gt;</th><th scope=col>&lt;dbl&gt;</th><th scope=col>&lt;dbl&gt;</th><th scope=col>&lt;dbl&gt;</th><th scope=col>&lt;dbl&gt;</th><th scope=col>&lt;dbl&gt;</th><th scope=col>⋯</th><th scope=col>&lt;dbl&gt;</th><th scope=col>&lt;dbl&gt;</th><th scope=col>&lt;dbl&gt;</th><th scope=col>&lt;dbl&gt;</th><th scope=col>&lt;dbl&gt;</th><th scope=col>&lt;dbl&gt;</th><th scope=col>&lt;dbl&gt;</th><th scope=col>&lt;dbl&gt;</th><th scope=col>&lt;dbl&gt;</th><th scope=col>&lt;dbl&gt;</th></tr>\n",
       "</thead>\n",
       "<tbody>\n",
       "\t<tr><th scope=row>1001</th><td>260</td><td>0</td><td>6.871230</td><td>NA</td><td>NA</td><td>NA</td><td>NA</td><td>NA</td><td>NA</td><td> 1</td><td>⋯</td><td>1</td><td>1</td><td>1</td><td>1</td><td>1</td><td>1</td><td>1</td><td>1</td><td>1</td><td>1</td></tr>\n",
       "\t<tr><th scope=row>1002</th><td>284</td><td>0</td><td>6.469947</td><td>NA</td><td>NA</td><td>NA</td><td>NA</td><td>NA</td><td>NA</td><td> 1</td><td>⋯</td><td>1</td><td>1</td><td>1</td><td>1</td><td>1</td><td>1</td><td>1</td><td>1</td><td>1</td><td>1</td></tr>\n",
       "\t<tr><th scope=row>1003</th><td> 38</td><td>0</td><td>7.423327</td><td>NA</td><td>NA</td><td>NA</td><td>NA</td><td>NA</td><td>NA</td><td>NA</td><td>⋯</td><td>1</td><td>1</td><td>1</td><td>1</td><td>1</td><td>1</td><td>1</td><td>1</td><td>1</td><td>1</td></tr>\n",
       "\t<tr><th scope=row>1004</th><td>754</td><td>0</td><td>7.399494</td><td>NA</td><td>NA</td><td>NA</td><td>NA</td><td>NA</td><td>NA</td><td>NA</td><td>⋯</td><td>1</td><td>1</td><td>1</td><td>1</td><td>1</td><td>1</td><td>1</td><td>1</td><td>1</td><td>1</td></tr>\n",
       "\t<tr><th scope=row>1005</th><td> 19</td><td>0</td><td>8.944277</td><td>NA</td><td>NA</td><td>NA</td><td>NA</td><td>NA</td><td>NA</td><td>NA</td><td>⋯</td><td>1</td><td>1</td><td>1</td><td>1</td><td>1</td><td>1</td><td>1</td><td>1</td><td>1</td><td>1</td></tr>\n",
       "\t<tr><th scope=row>1006</th><td> 42</td><td>0</td><td>8.927357</td><td>NA</td><td>NA</td><td>NA</td><td>NA</td><td>NA</td><td>NA</td><td>NA</td><td>⋯</td><td>1</td><td>1</td><td>1</td><td>1</td><td>1</td><td>1</td><td>1</td><td>1</td><td>1</td><td>1</td></tr>\n",
       "</tbody>\n",
       "</table>\n"
      ],
      "text/latex": [
       "A data.frame: 6 × 103\n",
       "\\begin{tabular}{r|lllllllllllllllllllll}\n",
       "  & id & birth & death & smurfness\\_1 & smurfness\\_2 & smurfness\\_3 & smurfness\\_4 & smurfness\\_5 & smurfness\\_6 & smurfness\\_7 & ⋯ & smurfness\\_91 & smurfness\\_92 & smurfness\\_93 & smurfness\\_94 & smurfness\\_95 & smurfness\\_96 & smurfness\\_97 & smurfness\\_98 & smurfness\\_99 & smurfness\\_100\\\\\n",
       "  & <int> & <dbl> & <dbl> & <dbl> & <dbl> & <dbl> & <dbl> & <dbl> & <dbl> & <dbl> & ⋯ & <dbl> & <dbl> & <dbl> & <dbl> & <dbl> & <dbl> & <dbl> & <dbl> & <dbl> & <dbl>\\\\\n",
       "\\hline\n",
       "\t1001 & 260 & 0 & 6.871230 & NA & NA & NA & NA & NA & NA &  1 & ⋯ & 1 & 1 & 1 & 1 & 1 & 1 & 1 & 1 & 1 & 1\\\\\n",
       "\t1002 & 284 & 0 & 6.469947 & NA & NA & NA & NA & NA & NA &  1 & ⋯ & 1 & 1 & 1 & 1 & 1 & 1 & 1 & 1 & 1 & 1\\\\\n",
       "\t1003 &  38 & 0 & 7.423327 & NA & NA & NA & NA & NA & NA & NA & ⋯ & 1 & 1 & 1 & 1 & 1 & 1 & 1 & 1 & 1 & 1\\\\\n",
       "\t1004 & 754 & 0 & 7.399494 & NA & NA & NA & NA & NA & NA & NA & ⋯ & 1 & 1 & 1 & 1 & 1 & 1 & 1 & 1 & 1 & 1\\\\\n",
       "\t1005 &  19 & 0 & 8.944277 & NA & NA & NA & NA & NA & NA & NA & ⋯ & 1 & 1 & 1 & 1 & 1 & 1 & 1 & 1 & 1 & 1\\\\\n",
       "\t1006 &  42 & 0 & 8.927357 & NA & NA & NA & NA & NA & NA & NA & ⋯ & 1 & 1 & 1 & 1 & 1 & 1 & 1 & 1 & 1 & 1\\\\\n",
       "\\end{tabular}\n"
      ],
      "text/markdown": [
       "\n",
       "A data.frame: 6 × 103\n",
       "\n",
       "| <!--/--> | id &lt;int&gt; | birth &lt;dbl&gt; | death &lt;dbl&gt; | smurfness_1 &lt;dbl&gt; | smurfness_2 &lt;dbl&gt; | smurfness_3 &lt;dbl&gt; | smurfness_4 &lt;dbl&gt; | smurfness_5 &lt;dbl&gt; | smurfness_6 &lt;dbl&gt; | smurfness_7 &lt;dbl&gt; | ⋯ ⋯ | smurfness_91 &lt;dbl&gt; | smurfness_92 &lt;dbl&gt; | smurfness_93 &lt;dbl&gt; | smurfness_94 &lt;dbl&gt; | smurfness_95 &lt;dbl&gt; | smurfness_96 &lt;dbl&gt; | smurfness_97 &lt;dbl&gt; | smurfness_98 &lt;dbl&gt; | smurfness_99 &lt;dbl&gt; | smurfness_100 &lt;dbl&gt; |\n",
       "|---|---|---|---|---|---|---|---|---|---|---|---|---|---|---|---|---|---|---|---|---|---|\n",
       "| 1001 | 260 | 0 | 6.871230 | NA | NA | NA | NA | NA | NA |  1 | ⋯ | 1 | 1 | 1 | 1 | 1 | 1 | 1 | 1 | 1 | 1 |\n",
       "| 1002 | 284 | 0 | 6.469947 | NA | NA | NA | NA | NA | NA |  1 | ⋯ | 1 | 1 | 1 | 1 | 1 | 1 | 1 | 1 | 1 | 1 |\n",
       "| 1003 |  38 | 0 | 7.423327 | NA | NA | NA | NA | NA | NA | NA | ⋯ | 1 | 1 | 1 | 1 | 1 | 1 | 1 | 1 | 1 | 1 |\n",
       "| 1004 | 754 | 0 | 7.399494 | NA | NA | NA | NA | NA | NA | NA | ⋯ | 1 | 1 | 1 | 1 | 1 | 1 | 1 | 1 | 1 | 1 |\n",
       "| 1005 |  19 | 0 | 8.944277 | NA | NA | NA | NA | NA | NA | NA | ⋯ | 1 | 1 | 1 | 1 | 1 | 1 | 1 | 1 | 1 | 1 |\n",
       "| 1006 |  42 | 0 | 8.927357 | NA | NA | NA | NA | NA | NA | NA | ⋯ | 1 | 1 | 1 | 1 | 1 | 1 | 1 | 1 | 1 | 1 |\n",
       "\n"
      ],
      "text/plain": [
       "     id  birth death    smurfness_1 smurfness_2 smurfness_3 smurfness_4\n",
       "1001 260 0     6.871230 NA          NA          NA          NA         \n",
       "1002 284 0     6.469947 NA          NA          NA          NA         \n",
       "1003  38 0     7.423327 NA          NA          NA          NA         \n",
       "1004 754 0     7.399494 NA          NA          NA          NA         \n",
       "1005  19 0     8.944277 NA          NA          NA          NA         \n",
       "1006  42 0     8.927357 NA          NA          NA          NA         \n",
       "     smurfness_5 smurfness_6 smurfness_7 ⋯ smurfness_91 smurfness_92\n",
       "1001 NA          NA           1          ⋯ 1            1           \n",
       "1002 NA          NA           1          ⋯ 1            1           \n",
       "1003 NA          NA          NA          ⋯ 1            1           \n",
       "1004 NA          NA          NA          ⋯ 1            1           \n",
       "1005 NA          NA          NA          ⋯ 1            1           \n",
       "1006 NA          NA          NA          ⋯ 1            1           \n",
       "     smurfness_93 smurfness_94 smurfness_95 smurfness_96 smurfness_97\n",
       "1001 1            1            1            1            1           \n",
       "1002 1            1            1            1            1           \n",
       "1003 1            1            1            1            1           \n",
       "1004 1            1            1            1            1           \n",
       "1005 1            1            1            1            1           \n",
       "1006 1            1            1            1            1           \n",
       "     smurfness_98 smurfness_99 smurfness_100\n",
       "1001 1            1            1            \n",
       "1002 1            1            1            \n",
       "1003 1            1            1            \n",
       "1004 1            1            1            \n",
       "1005 1            1            1            \n",
       "1006 1            1            1            "
      ]
     },
     "metadata": {},
     "output_type": "display_data"
    },
    {
     "data": {
      "text/html": [
       "<table class=\"dataframe\">\n",
       "<caption>A data.frame: 6 × 103</caption>\n",
       "<thead>\n",
       "\t<tr><th></th><th scope=col>id</th><th scope=col>birth</th><th scope=col>death</th><th scope=col>smurfness_1</th><th scope=col>smurfness_2</th><th scope=col>smurfness_3</th><th scope=col>smurfness_4</th><th scope=col>smurfness_5</th><th scope=col>smurfness_6</th><th scope=col>smurfness_7</th><th scope=col>⋯</th><th scope=col>smurfness_91</th><th scope=col>smurfness_92</th><th scope=col>smurfness_93</th><th scope=col>smurfness_94</th><th scope=col>smurfness_95</th><th scope=col>smurfness_96</th><th scope=col>smurfness_97</th><th scope=col>smurfness_98</th><th scope=col>smurfness_99</th><th scope=col>smurfness_100</th></tr>\n",
       "\t<tr><th></th><th scope=col>&lt;int&gt;</th><th scope=col>&lt;dbl&gt;</th><th scope=col>&lt;dbl&gt;</th><th scope=col>&lt;dbl&gt;</th><th scope=col>&lt;dbl&gt;</th><th scope=col>&lt;dbl&gt;</th><th scope=col>&lt;dbl&gt;</th><th scope=col>&lt;dbl&gt;</th><th scope=col>&lt;dbl&gt;</th><th scope=col>&lt;dbl&gt;</th><th scope=col>⋯</th><th scope=col>&lt;dbl&gt;</th><th scope=col>&lt;dbl&gt;</th><th scope=col>&lt;dbl&gt;</th><th scope=col>&lt;dbl&gt;</th><th scope=col>&lt;dbl&gt;</th><th scope=col>&lt;dbl&gt;</th><th scope=col>&lt;dbl&gt;</th><th scope=col>&lt;dbl&gt;</th><th scope=col>&lt;dbl&gt;</th><th scope=col>&lt;dbl&gt;</th></tr>\n",
       "</thead>\n",
       "<tbody>\n",
       "\t<tr><th scope=row>1995</th><td>327</td><td>0</td><td>45.78456</td><td>NA</td><td>NA</td><td>NA</td><td>NA</td><td>NA</td><td>NA</td><td>NA</td><td>⋯</td><td>1</td><td>1</td><td>1</td><td>1</td><td>1</td><td>1</td><td>1</td><td>1</td><td>1</td><td>1</td></tr>\n",
       "\t<tr><th scope=row>1996</th><td>716</td><td>0</td><td>45.96929</td><td>NA</td><td>NA</td><td>NA</td><td>NA</td><td>NA</td><td>NA</td><td>NA</td><td>⋯</td><td>1</td><td>1</td><td>1</td><td>1</td><td>1</td><td>1</td><td>1</td><td>1</td><td>1</td><td>1</td></tr>\n",
       "\t<tr><th scope=row>1997</th><td>337</td><td>0</td><td>46.51725</td><td>NA</td><td>NA</td><td>NA</td><td>NA</td><td>NA</td><td>NA</td><td>NA</td><td>⋯</td><td>1</td><td>1</td><td>1</td><td>1</td><td>1</td><td>1</td><td>1</td><td>1</td><td>1</td><td>1</td></tr>\n",
       "\t<tr><th scope=row>1998</th><td>654</td><td>0</td><td>47.19744</td><td>NA</td><td>NA</td><td>NA</td><td>NA</td><td>NA</td><td>NA</td><td>NA</td><td>⋯</td><td>1</td><td>1</td><td>1</td><td>1</td><td>1</td><td>1</td><td>1</td><td>1</td><td>1</td><td>1</td></tr>\n",
       "\t<tr><th scope=row>1999</th><td>684</td><td>0</td><td>49.17535</td><td>NA</td><td>NA</td><td>NA</td><td>NA</td><td>NA</td><td>NA</td><td>NA</td><td>⋯</td><td>1</td><td>1</td><td>1</td><td>1</td><td>1</td><td>1</td><td>1</td><td>1</td><td>1</td><td>1</td></tr>\n",
       "\t<tr><th scope=row>2000</th><td>731</td><td>0</td><td>55.78500</td><td>NA</td><td>NA</td><td>NA</td><td>NA</td><td>NA</td><td>NA</td><td>NA</td><td>⋯</td><td>1</td><td>1</td><td>1</td><td>1</td><td>1</td><td>1</td><td>1</td><td>1</td><td>1</td><td>1</td></tr>\n",
       "</tbody>\n",
       "</table>\n"
      ],
      "text/latex": [
       "A data.frame: 6 × 103\n",
       "\\begin{tabular}{r|lllllllllllllllllllll}\n",
       "  & id & birth & death & smurfness\\_1 & smurfness\\_2 & smurfness\\_3 & smurfness\\_4 & smurfness\\_5 & smurfness\\_6 & smurfness\\_7 & ⋯ & smurfness\\_91 & smurfness\\_92 & smurfness\\_93 & smurfness\\_94 & smurfness\\_95 & smurfness\\_96 & smurfness\\_97 & smurfness\\_98 & smurfness\\_99 & smurfness\\_100\\\\\n",
       "  & <int> & <dbl> & <dbl> & <dbl> & <dbl> & <dbl> & <dbl> & <dbl> & <dbl> & <dbl> & ⋯ & <dbl> & <dbl> & <dbl> & <dbl> & <dbl> & <dbl> & <dbl> & <dbl> & <dbl> & <dbl>\\\\\n",
       "\\hline\n",
       "\t1995 & 327 & 0 & 45.78456 & NA & NA & NA & NA & NA & NA & NA & ⋯ & 1 & 1 & 1 & 1 & 1 & 1 & 1 & 1 & 1 & 1\\\\\n",
       "\t1996 & 716 & 0 & 45.96929 & NA & NA & NA & NA & NA & NA & NA & ⋯ & 1 & 1 & 1 & 1 & 1 & 1 & 1 & 1 & 1 & 1\\\\\n",
       "\t1997 & 337 & 0 & 46.51725 & NA & NA & NA & NA & NA & NA & NA & ⋯ & 1 & 1 & 1 & 1 & 1 & 1 & 1 & 1 & 1 & 1\\\\\n",
       "\t1998 & 654 & 0 & 47.19744 & NA & NA & NA & NA & NA & NA & NA & ⋯ & 1 & 1 & 1 & 1 & 1 & 1 & 1 & 1 & 1 & 1\\\\\n",
       "\t1999 & 684 & 0 & 49.17535 & NA & NA & NA & NA & NA & NA & NA & ⋯ & 1 & 1 & 1 & 1 & 1 & 1 & 1 & 1 & 1 & 1\\\\\n",
       "\t2000 & 731 & 0 & 55.78500 & NA & NA & NA & NA & NA & NA & NA & ⋯ & 1 & 1 & 1 & 1 & 1 & 1 & 1 & 1 & 1 & 1\\\\\n",
       "\\end{tabular}\n"
      ],
      "text/markdown": [
       "\n",
       "A data.frame: 6 × 103\n",
       "\n",
       "| <!--/--> | id &lt;int&gt; | birth &lt;dbl&gt; | death &lt;dbl&gt; | smurfness_1 &lt;dbl&gt; | smurfness_2 &lt;dbl&gt; | smurfness_3 &lt;dbl&gt; | smurfness_4 &lt;dbl&gt; | smurfness_5 &lt;dbl&gt; | smurfness_6 &lt;dbl&gt; | smurfness_7 &lt;dbl&gt; | ⋯ ⋯ | smurfness_91 &lt;dbl&gt; | smurfness_92 &lt;dbl&gt; | smurfness_93 &lt;dbl&gt; | smurfness_94 &lt;dbl&gt; | smurfness_95 &lt;dbl&gt; | smurfness_96 &lt;dbl&gt; | smurfness_97 &lt;dbl&gt; | smurfness_98 &lt;dbl&gt; | smurfness_99 &lt;dbl&gt; | smurfness_100 &lt;dbl&gt; |\n",
       "|---|---|---|---|---|---|---|---|---|---|---|---|---|---|---|---|---|---|---|---|---|---|\n",
       "| 1995 | 327 | 0 | 45.78456 | NA | NA | NA | NA | NA | NA | NA | ⋯ | 1 | 1 | 1 | 1 | 1 | 1 | 1 | 1 | 1 | 1 |\n",
       "| 1996 | 716 | 0 | 45.96929 | NA | NA | NA | NA | NA | NA | NA | ⋯ | 1 | 1 | 1 | 1 | 1 | 1 | 1 | 1 | 1 | 1 |\n",
       "| 1997 | 337 | 0 | 46.51725 | NA | NA | NA | NA | NA | NA | NA | ⋯ | 1 | 1 | 1 | 1 | 1 | 1 | 1 | 1 | 1 | 1 |\n",
       "| 1998 | 654 | 0 | 47.19744 | NA | NA | NA | NA | NA | NA | NA | ⋯ | 1 | 1 | 1 | 1 | 1 | 1 | 1 | 1 | 1 | 1 |\n",
       "| 1999 | 684 | 0 | 49.17535 | NA | NA | NA | NA | NA | NA | NA | ⋯ | 1 | 1 | 1 | 1 | 1 | 1 | 1 | 1 | 1 | 1 |\n",
       "| 2000 | 731 | 0 | 55.78500 | NA | NA | NA | NA | NA | NA | NA | ⋯ | 1 | 1 | 1 | 1 | 1 | 1 | 1 | 1 | 1 | 1 |\n",
       "\n"
      ],
      "text/plain": [
       "     id  birth death    smurfness_1 smurfness_2 smurfness_3 smurfness_4\n",
       "1995 327 0     45.78456 NA          NA          NA          NA         \n",
       "1996 716 0     45.96929 NA          NA          NA          NA         \n",
       "1997 337 0     46.51725 NA          NA          NA          NA         \n",
       "1998 654 0     47.19744 NA          NA          NA          NA         \n",
       "1999 684 0     49.17535 NA          NA          NA          NA         \n",
       "2000 731 0     55.78500 NA          NA          NA          NA         \n",
       "     smurfness_5 smurfness_6 smurfness_7 ⋯ smurfness_91 smurfness_92\n",
       "1995 NA          NA          NA          ⋯ 1            1           \n",
       "1996 NA          NA          NA          ⋯ 1            1           \n",
       "1997 NA          NA          NA          ⋯ 1            1           \n",
       "1998 NA          NA          NA          ⋯ 1            1           \n",
       "1999 NA          NA          NA          ⋯ 1            1           \n",
       "2000 NA          NA          NA          ⋯ 1            1           \n",
       "     smurfness_93 smurfness_94 smurfness_95 smurfness_96 smurfness_97\n",
       "1995 1            1            1            1            1           \n",
       "1996 1            1            1            1            1           \n",
       "1997 1            1            1            1            1           \n",
       "1998 1            1            1            1            1           \n",
       "1999 1            1            1            1            1           \n",
       "2000 1            1            1            1            1           \n",
       "     smurfness_98 smurfness_99 smurfness_100\n",
       "1995 1            1            1            \n",
       "1996 1            1            1            \n",
       "1997 1            1            1            \n",
       "1998 1            1            1            \n",
       "1999 1            1            1            \n",
       "2000 1            1            1            "
      ]
     },
     "metadata": {},
     "output_type": "display_data"
    }
   ],
   "source": [
    "pop_out <- merge_pop_withid(sim_out$population)[1001:2000,]\n",
    "head(pop_out)\n",
    "tail(pop_out)"
   ]
  },
  {
   "cell_type": "code",
   "execution_count": 21,
   "id": "dbdf715e-056d-43a3-b448-3ec758075e3e",
   "metadata": {},
   "outputs": [
    {
     "data": {
      "text/html": [
       "0.00228941684665227"
      ],
      "text/latex": [
       "0.00228941684665227"
      ],
      "text/markdown": [
       "0.00228941684665227"
      ],
      "text/plain": [
       "[1] 0.002289417"
      ]
     },
     "metadata": {},
     "output_type": "display_data"
    }
   ],
   "source": [
    "#mortality per age general pop\n",
    "pop_final <- sim_out$population[[10]]\n",
    "#Dx <- death_table(pop_final, 0:100, 0:100)\n",
    "#Ex <- exposure_table(pop_final, 0:100, 0:100)\n",
    "all_dead <- pop_final[is.na(pop_final$death)==FALSE,]\n",
    "dim(all_dead[all_dead$smurfness==1,])[1]/dim(all_dead)[1]"
   ]
  },
  {
   "cell_type": "code",
   "execution_count": 29,
   "id": "8fa06387-fa50-42ab-a390-047e3285473e",
   "metadata": {},
   "outputs": [
    {
     "data": {
      "text/html": [
       "1382514"
      ],
      "text/latex": [
       "1382514"
      ],
      "text/markdown": [
       "1382514"
      ],
      "text/plain": [
       "[1] 1382514"
      ]
     },
     "metadata": {},
     "output_type": "display_data"
    }
   ],
   "source": [
    "dim(pop_final)[1]"
   ]
  },
  {
   "cell_type": "code",
   "execution_count": 22,
   "id": "24e28bb7-130b-4268-8276-603c03fe0779",
   "metadata": {},
   "outputs": [
    {
     "data": {
      "text/html": [
       "<table class=\"dataframe\">\n",
       "<caption>A data.frame: 33721 × 4</caption>\n",
       "<thead>\n",
       "\t<tr><th scope=col>id</th><th scope=col>birth</th><th scope=col>death</th><th scope=col>smurfness</th></tr>\n",
       "\t<tr><th scope=col>&lt;int&gt;</th><th scope=col>&lt;dbl&gt;</th><th scope=col>&lt;dbl&gt;</th><th scope=col>&lt;dbl&gt;</th></tr>\n",
       "</thead>\n",
       "<tbody>\n",
       "\t<tr><td> 65</td><td>1.979202</td><td>NA</td><td>1</td></tr>\n",
       "\t<tr><td> 72</td><td>2.110562</td><td>NA</td><td>1</td></tr>\n",
       "\t<tr><td> 82</td><td>2.255422</td><td>NA</td><td>1</td></tr>\n",
       "\t<tr><td>101</td><td>2.367356</td><td>NA</td><td>1</td></tr>\n",
       "\t<tr><td>168</td><td>2.871140</td><td>NA</td><td>1</td></tr>\n",
       "\t<tr><td>190</td><td>2.975911</td><td>NA</td><td>1</td></tr>\n",
       "\t<tr><td>224</td><td>3.157307</td><td>NA</td><td>1</td></tr>\n",
       "\t<tr><td>240</td><td>3.204916</td><td>NA</td><td>1</td></tr>\n",
       "\t<tr><td>260</td><td>3.293001</td><td>NA</td><td>1</td></tr>\n",
       "\t<tr><td>274</td><td>3.345617</td><td>NA</td><td>1</td></tr>\n",
       "\t<tr><td>288</td><td>3.383568</td><td>NA</td><td>1</td></tr>\n",
       "\t<tr><td>313</td><td>3.459067</td><td>NA</td><td>1</td></tr>\n",
       "\t<tr><td>320</td><td>3.477845</td><td>NA</td><td>1</td></tr>\n",
       "\t<tr><td>348</td><td>3.557399</td><td>NA</td><td>1</td></tr>\n",
       "\t<tr><td>373</td><td>3.650565</td><td>NA</td><td>1</td></tr>\n",
       "\t<tr><td>379</td><td>3.658335</td><td>NA</td><td>1</td></tr>\n",
       "\t<tr><td>412</td><td>3.739017</td><td>NA</td><td>1</td></tr>\n",
       "\t<tr><td>424</td><td>3.760169</td><td>NA</td><td>1</td></tr>\n",
       "\t<tr><td>469</td><td>3.835501</td><td>NA</td><td>1</td></tr>\n",
       "\t<tr><td>498</td><td>3.899919</td><td>NA</td><td>0</td></tr>\n",
       "\t<tr><td>500</td><td>3.901732</td><td>NA</td><td>1</td></tr>\n",
       "\t<tr><td>503</td><td>3.907089</td><td>NA</td><td>0</td></tr>\n",
       "\t<tr><td>532</td><td>3.958533</td><td>NA</td><td>0</td></tr>\n",
       "\t<tr><td>533</td><td>3.958908</td><td>NA</td><td>0</td></tr>\n",
       "\t<tr><td>551</td><td>3.995310</td><td>NA</td><td>0</td></tr>\n",
       "\t<tr><td>578</td><td>4.050511</td><td>NA</td><td>0</td></tr>\n",
       "\t<tr><td>600</td><td>4.103462</td><td>NA</td><td>0</td></tr>\n",
       "\t<tr><td>608</td><td>4.115283</td><td>NA</td><td>0</td></tr>\n",
       "\t<tr><td>619</td><td>4.135197</td><td>NA</td><td>0</td></tr>\n",
       "\t<tr><td>629</td><td>4.156992</td><td>NA</td><td>0</td></tr>\n",
       "\t<tr><td>⋮</td><td>⋮</td><td>⋮</td><td>⋮</td></tr>\n",
       "\t<tr><td>33692</td><td>9.872170</td><td>9.980620</td><td>0</td></tr>\n",
       "\t<tr><td>33693</td><td>9.872253</td><td>9.983664</td><td>0</td></tr>\n",
       "\t<tr><td>33694</td><td>9.873893</td><td>9.993943</td><td>0</td></tr>\n",
       "\t<tr><td>33695</td><td>9.879742</td><td>9.964780</td><td>0</td></tr>\n",
       "\t<tr><td>33696</td><td>9.886062</td><td>9.978237</td><td>0</td></tr>\n",
       "\t<tr><td>33697</td><td>9.897006</td><td>9.993190</td><td>0</td></tr>\n",
       "\t<tr><td>33698</td><td>9.897810</td><td>9.974756</td><td>0</td></tr>\n",
       "\t<tr><td>33699</td><td>9.903296</td><td>9.988282</td><td>0</td></tr>\n",
       "\t<tr><td>33700</td><td>9.913540</td><td>9.961637</td><td>0</td></tr>\n",
       "\t<tr><td>33701</td><td>9.913928</td><td>9.989240</td><td>0</td></tr>\n",
       "\t<tr><td>33702</td><td>9.915405</td><td>9.966127</td><td>0</td></tr>\n",
       "\t<tr><td>33703</td><td>9.916702</td><td>9.962055</td><td>0</td></tr>\n",
       "\t<tr><td>33704</td><td>9.927136</td><td>9.976269</td><td>0</td></tr>\n",
       "\t<tr><td>33705</td><td>9.933620</td><td>9.977665</td><td>0</td></tr>\n",
       "\t<tr><td>33706</td><td>9.936669</td><td>9.990471</td><td>0</td></tr>\n",
       "\t<tr><td>33707</td><td>9.939585</td><td>9.997332</td><td>0</td></tr>\n",
       "\t<tr><td>33708</td><td>9.940752</td><td>9.992733</td><td>0</td></tr>\n",
       "\t<tr><td>33709</td><td>9.943909</td><td>9.996258</td><td>0</td></tr>\n",
       "\t<tr><td>33710</td><td>9.946180</td><td>9.965502</td><td>0</td></tr>\n",
       "\t<tr><td>33711</td><td>9.946916</td><td>9.998567</td><td>0</td></tr>\n",
       "\t<tr><td>33712</td><td>9.947969</td><td>9.966072</td><td>0</td></tr>\n",
       "\t<tr><td>33713</td><td>9.952604</td><td>9.968690</td><td>0</td></tr>\n",
       "\t<tr><td>33714</td><td>9.954418</td><td>9.982036</td><td>0</td></tr>\n",
       "\t<tr><td>33715</td><td>9.955888</td><td>9.995596</td><td>0</td></tr>\n",
       "\t<tr><td>33716</td><td>9.958377</td><td>9.979174</td><td>0</td></tr>\n",
       "\t<tr><td>33717</td><td>9.963056</td><td>9.979250</td><td>0</td></tr>\n",
       "\t<tr><td>33718</td><td>9.963703</td><td>9.969618</td><td>0</td></tr>\n",
       "\t<tr><td>33719</td><td>9.975354</td><td>9.982933</td><td>0</td></tr>\n",
       "\t<tr><td>33720</td><td>9.979807</td><td>9.998449</td><td>0</td></tr>\n",
       "\t<tr><td>33721</td><td>9.988796</td><td>9.995863</td><td>0</td></tr>\n",
       "</tbody>\n",
       "</table>\n"
      ],
      "text/latex": [
       "A data.frame: 33721 × 4\n",
       "\\begin{tabular}{llll}\n",
       " id & birth & death & smurfness\\\\\n",
       " <int> & <dbl> & <dbl> & <dbl>\\\\\n",
       "\\hline\n",
       "\t  65 & 1.979202 & NA & 1\\\\\n",
       "\t  72 & 2.110562 & NA & 1\\\\\n",
       "\t  82 & 2.255422 & NA & 1\\\\\n",
       "\t 101 & 2.367356 & NA & 1\\\\\n",
       "\t 168 & 2.871140 & NA & 1\\\\\n",
       "\t 190 & 2.975911 & NA & 1\\\\\n",
       "\t 224 & 3.157307 & NA & 1\\\\\n",
       "\t 240 & 3.204916 & NA & 1\\\\\n",
       "\t 260 & 3.293001 & NA & 1\\\\\n",
       "\t 274 & 3.345617 & NA & 1\\\\\n",
       "\t 288 & 3.383568 & NA & 1\\\\\n",
       "\t 313 & 3.459067 & NA & 1\\\\\n",
       "\t 320 & 3.477845 & NA & 1\\\\\n",
       "\t 348 & 3.557399 & NA & 1\\\\\n",
       "\t 373 & 3.650565 & NA & 1\\\\\n",
       "\t 379 & 3.658335 & NA & 1\\\\\n",
       "\t 412 & 3.739017 & NA & 1\\\\\n",
       "\t 424 & 3.760169 & NA & 1\\\\\n",
       "\t 469 & 3.835501 & NA & 1\\\\\n",
       "\t 498 & 3.899919 & NA & 0\\\\\n",
       "\t 500 & 3.901732 & NA & 1\\\\\n",
       "\t 503 & 3.907089 & NA & 0\\\\\n",
       "\t 532 & 3.958533 & NA & 0\\\\\n",
       "\t 533 & 3.958908 & NA & 0\\\\\n",
       "\t 551 & 3.995310 & NA & 0\\\\\n",
       "\t 578 & 4.050511 & NA & 0\\\\\n",
       "\t 600 & 4.103462 & NA & 0\\\\\n",
       "\t 608 & 4.115283 & NA & 0\\\\\n",
       "\t 619 & 4.135197 & NA & 0\\\\\n",
       "\t 629 & 4.156992 & NA & 0\\\\\n",
       "\t ⋮ & ⋮ & ⋮ & ⋮\\\\\n",
       "\t 33692 & 9.872170 & 9.980620 & 0\\\\\n",
       "\t 33693 & 9.872253 & 9.983664 & 0\\\\\n",
       "\t 33694 & 9.873893 & 9.993943 & 0\\\\\n",
       "\t 33695 & 9.879742 & 9.964780 & 0\\\\\n",
       "\t 33696 & 9.886062 & 9.978237 & 0\\\\\n",
       "\t 33697 & 9.897006 & 9.993190 & 0\\\\\n",
       "\t 33698 & 9.897810 & 9.974756 & 0\\\\\n",
       "\t 33699 & 9.903296 & 9.988282 & 0\\\\\n",
       "\t 33700 & 9.913540 & 9.961637 & 0\\\\\n",
       "\t 33701 & 9.913928 & 9.989240 & 0\\\\\n",
       "\t 33702 & 9.915405 & 9.966127 & 0\\\\\n",
       "\t 33703 & 9.916702 & 9.962055 & 0\\\\\n",
       "\t 33704 & 9.927136 & 9.976269 & 0\\\\\n",
       "\t 33705 & 9.933620 & 9.977665 & 0\\\\\n",
       "\t 33706 & 9.936669 & 9.990471 & 0\\\\\n",
       "\t 33707 & 9.939585 & 9.997332 & 0\\\\\n",
       "\t 33708 & 9.940752 & 9.992733 & 0\\\\\n",
       "\t 33709 & 9.943909 & 9.996258 & 0\\\\\n",
       "\t 33710 & 9.946180 & 9.965502 & 0\\\\\n",
       "\t 33711 & 9.946916 & 9.998567 & 0\\\\\n",
       "\t 33712 & 9.947969 & 9.966072 & 0\\\\\n",
       "\t 33713 & 9.952604 & 9.968690 & 0\\\\\n",
       "\t 33714 & 9.954418 & 9.982036 & 0\\\\\n",
       "\t 33715 & 9.955888 & 9.995596 & 0\\\\\n",
       "\t 33716 & 9.958377 & 9.979174 & 0\\\\\n",
       "\t 33717 & 9.963056 & 9.979250 & 0\\\\\n",
       "\t 33718 & 9.963703 & 9.969618 & 0\\\\\n",
       "\t 33719 & 9.975354 & 9.982933 & 0\\\\\n",
       "\t 33720 & 9.979807 & 9.998449 & 0\\\\\n",
       "\t 33721 & 9.988796 & 9.995863 & 0\\\\\n",
       "\\end{tabular}\n"
      ],
      "text/markdown": [
       "\n",
       "A data.frame: 33721 × 4\n",
       "\n",
       "| id &lt;int&gt; | birth &lt;dbl&gt; | death &lt;dbl&gt; | smurfness &lt;dbl&gt; |\n",
       "|---|---|---|---|\n",
       "|  65 | 1.979202 | NA | 1 |\n",
       "|  72 | 2.110562 | NA | 1 |\n",
       "|  82 | 2.255422 | NA | 1 |\n",
       "| 101 | 2.367356 | NA | 1 |\n",
       "| 168 | 2.871140 | NA | 1 |\n",
       "| 190 | 2.975911 | NA | 1 |\n",
       "| 224 | 3.157307 | NA | 1 |\n",
       "| 240 | 3.204916 | NA | 1 |\n",
       "| 260 | 3.293001 | NA | 1 |\n",
       "| 274 | 3.345617 | NA | 1 |\n",
       "| 288 | 3.383568 | NA | 1 |\n",
       "| 313 | 3.459067 | NA | 1 |\n",
       "| 320 | 3.477845 | NA | 1 |\n",
       "| 348 | 3.557399 | NA | 1 |\n",
       "| 373 | 3.650565 | NA | 1 |\n",
       "| 379 | 3.658335 | NA | 1 |\n",
       "| 412 | 3.739017 | NA | 1 |\n",
       "| 424 | 3.760169 | NA | 1 |\n",
       "| 469 | 3.835501 | NA | 1 |\n",
       "| 498 | 3.899919 | NA | 0 |\n",
       "| 500 | 3.901732 | NA | 1 |\n",
       "| 503 | 3.907089 | NA | 0 |\n",
       "| 532 | 3.958533 | NA | 0 |\n",
       "| 533 | 3.958908 | NA | 0 |\n",
       "| 551 | 3.995310 | NA | 0 |\n",
       "| 578 | 4.050511 | NA | 0 |\n",
       "| 600 | 4.103462 | NA | 0 |\n",
       "| 608 | 4.115283 | NA | 0 |\n",
       "| 619 | 4.135197 | NA | 0 |\n",
       "| 629 | 4.156992 | NA | 0 |\n",
       "| ⋮ | ⋮ | ⋮ | ⋮ |\n",
       "| 33692 | 9.872170 | 9.980620 | 0 |\n",
       "| 33693 | 9.872253 | 9.983664 | 0 |\n",
       "| 33694 | 9.873893 | 9.993943 | 0 |\n",
       "| 33695 | 9.879742 | 9.964780 | 0 |\n",
       "| 33696 | 9.886062 | 9.978237 | 0 |\n",
       "| 33697 | 9.897006 | 9.993190 | 0 |\n",
       "| 33698 | 9.897810 | 9.974756 | 0 |\n",
       "| 33699 | 9.903296 | 9.988282 | 0 |\n",
       "| 33700 | 9.913540 | 9.961637 | 0 |\n",
       "| 33701 | 9.913928 | 9.989240 | 0 |\n",
       "| 33702 | 9.915405 | 9.966127 | 0 |\n",
       "| 33703 | 9.916702 | 9.962055 | 0 |\n",
       "| 33704 | 9.927136 | 9.976269 | 0 |\n",
       "| 33705 | 9.933620 | 9.977665 | 0 |\n",
       "| 33706 | 9.936669 | 9.990471 | 0 |\n",
       "| 33707 | 9.939585 | 9.997332 | 0 |\n",
       "| 33708 | 9.940752 | 9.992733 | 0 |\n",
       "| 33709 | 9.943909 | 9.996258 | 0 |\n",
       "| 33710 | 9.946180 | 9.965502 | 0 |\n",
       "| 33711 | 9.946916 | 9.998567 | 0 |\n",
       "| 33712 | 9.947969 | 9.966072 | 0 |\n",
       "| 33713 | 9.952604 | 9.968690 | 0 |\n",
       "| 33714 | 9.954418 | 9.982036 | 0 |\n",
       "| 33715 | 9.955888 | 9.995596 | 0 |\n",
       "| 33716 | 9.958377 | 9.979174 | 0 |\n",
       "| 33717 | 9.963056 | 9.979250 | 0 |\n",
       "| 33718 | 9.963703 | 9.969618 | 0 |\n",
       "| 33719 | 9.975354 | 9.982933 | 0 |\n",
       "| 33720 | 9.979807 | 9.998449 | 0 |\n",
       "| 33721 | 9.988796 | 9.995863 | 0 |\n",
       "\n"
      ],
      "text/plain": [
       "      id    birth    death    smurfness\n",
       "1      65   1.979202 NA       1        \n",
       "2      72   2.110562 NA       1        \n",
       "3      82   2.255422 NA       1        \n",
       "4     101   2.367356 NA       1        \n",
       "5     168   2.871140 NA       1        \n",
       "6     190   2.975911 NA       1        \n",
       "7     224   3.157307 NA       1        \n",
       "8     240   3.204916 NA       1        \n",
       "9     260   3.293001 NA       1        \n",
       "10    274   3.345617 NA       1        \n",
       "11    288   3.383568 NA       1        \n",
       "12    313   3.459067 NA       1        \n",
       "13    320   3.477845 NA       1        \n",
       "14    348   3.557399 NA       1        \n",
       "15    373   3.650565 NA       1        \n",
       "16    379   3.658335 NA       1        \n",
       "17    412   3.739017 NA       1        \n",
       "18    424   3.760169 NA       1        \n",
       "19    469   3.835501 NA       1        \n",
       "20    498   3.899919 NA       0        \n",
       "21    500   3.901732 NA       1        \n",
       "22    503   3.907089 NA       0        \n",
       "23    532   3.958533 NA       0        \n",
       "24    533   3.958908 NA       0        \n",
       "25    551   3.995310 NA       0        \n",
       "26    578   4.050511 NA       0        \n",
       "27    600   4.103462 NA       0        \n",
       "28    608   4.115283 NA       0        \n",
       "29    619   4.135197 NA       0        \n",
       "30    629   4.156992 NA       0        \n",
       "⋮     ⋮     ⋮        ⋮        ⋮        \n",
       "33692 33692 9.872170 9.980620 0        \n",
       "33693 33693 9.872253 9.983664 0        \n",
       "33694 33694 9.873893 9.993943 0        \n",
       "33695 33695 9.879742 9.964780 0        \n",
       "33696 33696 9.886062 9.978237 0        \n",
       "33697 33697 9.897006 9.993190 0        \n",
       "33698 33698 9.897810 9.974756 0        \n",
       "33699 33699 9.903296 9.988282 0        \n",
       "33700 33700 9.913540 9.961637 0        \n",
       "33701 33701 9.913928 9.989240 0        \n",
       "33702 33702 9.915405 9.966127 0        \n",
       "33703 33703 9.916702 9.962055 0        \n",
       "33704 33704 9.927136 9.976269 0        \n",
       "33705 33705 9.933620 9.977665 0        \n",
       "33706 33706 9.936669 9.990471 0        \n",
       "33707 33707 9.939585 9.997332 0        \n",
       "33708 33708 9.940752 9.992733 0        \n",
       "33709 33709 9.943909 9.996258 0        \n",
       "33710 33710 9.946180 9.965502 0        \n",
       "33711 33711 9.946916 9.998567 0        \n",
       "33712 33712 9.947969 9.966072 0        \n",
       "33713 33713 9.952604 9.968690 0        \n",
       "33714 33714 9.954418 9.982036 0        \n",
       "33715 33715 9.955888 9.995596 0        \n",
       "33716 33716 9.958377 9.979174 0        \n",
       "33717 33717 9.963056 9.979250 0        \n",
       "33718 33718 9.963703 9.969618 0        \n",
       "33719 33719 9.975354 9.982933 0        \n",
       "33720 33720 9.979807 9.998449 0        \n",
       "33721 33721 9.988796 9.995863 0        "
      ]
     },
     "metadata": {},
     "output_type": "display_data"
    }
   ],
   "source": [
    "pop_final"
   ]
  },
  {
   "cell_type": "code",
   "execution_count": 57,
   "id": "9a55cb67",
   "metadata": {},
   "outputs": [],
   "source": [
    "survival <- sapply(1:100, function(i) (Ex[i,i]))"
   ]
  },
  {
   "cell_type": "code",
   "execution_count": 61,
   "id": "d73c0bbb-3488-4dbc-93b4-b1364559e788",
   "metadata": {},
   "outputs": [
    {
     "data": {
      "image/png": "[encoded data removed]",
      "text/plain": [
       "plot without title"
      ]
     },
     "metadata": {
      "image/png": {
       "height": 420,
       "width": 420
      }
     },
     "output_type": "display_data"
    }
   ],
   "source": [
    "plot(0:99, survival)"
   ]
  }
 ],
 "metadata": {
  "kernelspec": {
   "display_name": "R",
   "language": "R",
   "name": "ir"
  },
  "language_info": {
   "codemirror_mode": "r",
   "file_extension": ".r",
   "mimetype": "text/x-r-source",
   "name": "R",
   "pygments_lexer": "r",
   "version": "3.5.0"
  }
 },
 "nbformat": 4,
 "nbformat_minor": 5
}

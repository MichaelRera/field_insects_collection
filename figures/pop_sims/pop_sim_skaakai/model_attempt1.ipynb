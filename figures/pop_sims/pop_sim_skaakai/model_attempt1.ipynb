{
 "cells": [
  {
   "cell_type": "code",
   "execution_count": null,
   "metadata": {
    "tags": []
   },
   "outputs": [],
   "source": [
    "library(IBMPopSim)"
   ]
  },
  {
   "cell_type": "code",
   "execution_count": null,
   "metadata": {},
   "outputs": [],
   "source": [
    "#update.packages(checkBuilt=TRUE, ask=FALSE)\n",
    "#install.packages(\"Rcpp\")\n",
    "#install.packages(\"IBMPopSim\")\n",
    "#install.packages(\"devtools\")\n",
    "#install.packages(\"IRkernel\")\n",
    "#IRkernel::installspec()"
   ]
  },
  {
   "cell_type": "code",
   "execution_count": null,
   "metadata": {},
   "outputs": [],
   "source": [
    "pop <- data.frame(\"birth\"=rep(0,1000), \"death\"=rep(NA,1000), \"smurfness\"=rep(0,1000))\n",
    "params <- list(\"a\" = 0.015,\n",
    "               \"b\" = -0.09,\n",
    "               \"k_int\" = 0.19)\n"
   ]
  },
  {
   "cell_type": "code",
   "execution_count": null,
   "metadata": {},
   "outputs": [],
   "source": [
    "death_event <- mk_event_individual(type = \"death\",\n",
    "    intensity_code = 'if (I.smurfness==0)\n",
    "            result = 0;\n",
    "        else\n",
    "            result = k_int;'\n",
    ")\n"
   ]
  },
  {
   "cell_type": "code",
   "execution_count": null,
   "metadata": {},
   "outputs": [],
   "source": [
    "swap_event <- mk_event_individual(\n",
    "    type = \"swap\",\n",
    "    intensity_code = 'if (I.smurfness==0)\n",
    "                result = a*age(I,t)+b;\n",
    "            else\n",
    "                result = 0;',\n",
    "    kernel_code = 'I.smurfness=1;'\n",
    ")"
   ]
  },
  {
   "cell_type": "code",
   "execution_count": null,
   "metadata": {},
   "outputs": [],
   "source": [
    "model <- mk_model(\n",
    "    characteristics = get_characteristics(pop),\n",
    "    events = list(death_event, swap_event),\n",
    "    parameters = params)\n",
    "\n",
    "summary(model)"
   ]
  },
  {
   "cell_type": "code",
   "execution_count": null,
   "metadata": {},
   "outputs": [],
   "source": [
    "pop\n"
   ]
  },
  {
   "cell_type": "code",
   "execution_count": null,
   "metadata": {},
   "outputs": [],
   "source": []
  },
  {
   "cell_type": "code",
   "execution_count": null,
   "metadata": {},
   "outputs": [],
   "source": []
  }
 ],
 "metadata": {
  "kernelspec": {
   "display_name": "R",
   "language": "R",
   "name": "ir"
  },
  "language_info": {
   "codemirror_mode": "r",
   "file_extension": ".r",
   "mimetype": "text/x-r-source",
   "name": "R",
   "pygments_lexer": "r",
   "version": "4.1.2"
  }
 },
 "nbformat": 4,
 "nbformat_minor": 5
}

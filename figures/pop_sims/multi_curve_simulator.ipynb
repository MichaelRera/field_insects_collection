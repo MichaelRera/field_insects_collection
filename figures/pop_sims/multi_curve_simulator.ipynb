{
 "cells": [
  {
   "cell_type": "code",
   "execution_count": 1,
   "id": "f1849c4d-af72-4bf6-94ef-a3441ce2a9a9",
   "metadata": {
    "tags": []
   },
   "outputs": [
    {
     "name": "stderr",
     "output_type": "stream",
     "text": [
      "Warning message:\n",
      "\"package 'ggplot2' was built under R version 3.6.3\"\n",
      "Warning message:\n",
      "\"package 'dplyr' was built under R version 3.6.3\"\n",
      "\n",
      "Attaching package: 'dplyr'\n",
      "\n",
      "\n",
      "The following objects are masked from 'package:stats':\n",
      "\n",
      "    filter, lag\n",
      "\n",
      "\n",
      "The following objects are masked from 'package:base':\n",
      "\n",
      "    intersect, setdiff, setequal, union\n",
      "\n",
      "\n",
      "Warning message:\n",
      "\"package 'gridExtra' was built under R version 3.6.3\"\n",
      "\n",
      "Attaching package: 'gridExtra'\n",
      "\n",
      "\n",
      "The following object is masked from 'package:dplyr':\n",
      "\n",
      "    combine\n",
      "\n",
      "\n"
     ]
    }
   ],
   "source": [
    "library(ggplot2)\n",
    "library(dplyr)\n",
    "#library(reshape2)\n",
    "library(gridExtra)"
   ]
  },
  {
   "cell_type": "code",
   "execution_count": 2,
   "id": "ad845fdd-bc00-49ab-ad34-5288819483ca",
   "metadata": {},
   "outputs": [],
   "source": [
    "#min and max proportion of Smurfs observed\n",
    "min_s = 0.069\n",
    "max_s = 0.0784\n",
    "\n",
    "\n",
    "N <- 1000\n",
    "a <- 0.015\n",
    "b <- -0.09\n",
    "k <- 0.25\n",
    "max_s_prop <- 0.7\n",
    "age_max <- 150\n",
    "age_step <- 1\n",
    "N_iter=100"
   ]
  },
  {
   "cell_type": "code",
   "execution_count": 3,
   "id": "5928c945-b0e9-4d5c-9a18-a475c7c6df7a",
   "metadata": {
    "jupyter": {
     "source_hidden": true
    },
    "tags": []
   },
   "outputs": [],
   "source": [
    "multi_sim <- function(N,a,b,k,max_s_prop,age_max,age_step,N_iter){\n",
    "    multipop<-NA\n",
    "    for(replicats in 1:N_iter){\n",
    "        pop <- matrix(,nrow=4,ncol=age_max)\n",
    "        rownames(pop)<-c(\"age\",\"Smurf_prop\",\"n_NS\",\"n_S\")\n",
    "        pop[1,]<- seq(0,age_max-1,age_step)\n",
    "        cbind.na <- function(x, y){\n",
    "            n <- max(length(x), length(y))\n",
    "            length(x) <- n              \n",
    "            length(y) <- n\n",
    "            combined<-cbind(x,y)\n",
    "            combined[which(is.na(combined))]<-0\n",
    "            return(combined)\n",
    "        }\n",
    "\n",
    "        Smurf <- function(age){\n",
    "            age_func <- a*age+b\n",
    "            smurf_prop <- ifelse(age_func>0, ifelse(age_func<max_s_prop,runif(1,0,age_func*2),runif(1,0,max_s_prop)),0)\n",
    "            return(smurf_prop)\n",
    "        }\n",
    "\n",
    "    pop[3,1]<-N\n",
    "    for(i in pop[1,]){pop[2,i]<-Smurf(i)}\n",
    "    pop[4,1]<-round(pop[3,1]*pop[2,1], 0)\n",
    "    i=0\n",
    "    for(j in 2:length(pop[2,])){\n",
    "       i=i+1 \n",
    "       pop[4,j]<-round(pop[3,i]*pop[2,j] ,0)\n",
    "       pop[3,j]<-pop[3,i]-pop[4,j] \n",
    "    }\n",
    "    pop<-pop[,-length(pop[1,])]\n",
    "    #pop\n",
    "\n",
    "    kill_Smurfs <- function(n_S){\n",
    "        dyingSmurfs <- NA\n",
    "        dyingSmurfs[1]<-round(n_S-n_S*exp(-k),0)\n",
    "        i<-1\n",
    "        while(n_S>0){\n",
    "            i=i+1\n",
    "            n_S<-dyingSmurfs[i-1]\n",
    "            dyingSmurfs[i]<-round(n_S-n_S*exp(-k),0)\n",
    "        }\n",
    "        return(dyingSmurfs)\n",
    "    }\n",
    "\n",
    "\n",
    "    Smurf_death<-kill_Smurfs(pop[4,1])\n",
    "    length(Smurf_death)<-10; Smurf_death[which(is.na(Smurf_death))]<-0\n",
    "    for(i in pop[4,2:length(pop[4,])]){\n",
    "        Smurf_death<-cbind.na(Smurf_death,kill_Smurfs(i))\n",
    "    }\n",
    "Smurf_death<-cbind(pop[4,],t(Smurf_death))\n",
    "Smurf_death[is.na(Smurf_death)]<-0\n",
    "Smurf_death<-as.data.frame(Smurf_death)\n",
    "rownames(Smurf_death)<-pop[1,]\n",
    "colnames(Smurf_death)<-seq(1:length(Smurf_death[1,]))\n",
    "#Smurf_death\n",
    "\n",
    "Smurfs_dyn<-NA\n",
    "length(Smurfs_dyn)<-age_max\n",
    "for(i in 1:length(Smurf_death[,1])){\n",
    "    temp<-c(rep(NA,i-1),Smurf_death[i,])\n",
    "    length(temp)<-age_max\n",
    "    Smurfs_dyn<-rbind(Smurfs_dyn,temp)\n",
    "    }\n",
    "Smurfs_dyn<-as.data.frame(Smurfs_dyn[-1,])\n",
    "colnames(Smurfs_dyn)<-seq(1,age_max,1)\n",
    "rownames(Smurfs_dyn)<-pop[1,]\n",
    "Smurfs_dyn[,1:age_max][Smurfs_dyn[,1:age_max] == \"NULL\"] <- 0\n",
    "#Smurfs_dyn\n",
    "\n",
    "Smurfs_alive<-NA\n",
    "length(Smurfs_alive)<-age_max\n",
    "for(i in 1:age_max){Smurfs_alive[i]=sum(as.numeric(Smurfs_dyn[,i]),na.rm=TRUE)}\n",
    "pop<-rbind(pop,t(Smurfs_alive[1:age_max-1]))\n",
    "rownames(pop)<-c(\"age\",\"Smurf_prop\",\"n_NS\",\"n_S\",\"S_alive\")\n",
    "#pop\n",
    "\n",
    "Smurf_surv<-as.data.frame(apply(Smurf_death,2,sum))\n",
    "Smurf_surv<-cbind(as.numeric(colnames(Smurf_death)),Smurf_surv)\n",
    "rownames(Smurf_surv)<-NULL\n",
    "colnames(Smurf_surv)<-c(\"timeAsSmurf\",\"Smurfs_alive\")\n",
    "#head(Smurf_surv)\n",
    "        \n",
    "        multipop<-rbind(multipop,t(rbind(replicats,pop)))\n",
    "        \n",
    "#return(pop)\n",
    "}\n",
    "multipop<-as.data.frame(multipop[-1,])\n",
    "multipop<-multipop%>%relocate('age')\n",
    "rownames(multipop)<-NULL\n",
    "return(multipop)\n",
    "}"
   ]
  },
  {
   "cell_type": "code",
   "execution_count": 17,
   "id": "db93a179-1a64-4c2b-a15b-f55d2756b21e",
   "metadata": {},
   "outputs": [],
   "source": [
    "sims<-suppressWarnings(multi_sim(N,a,b,k,max_s_prop,age_max,age_step, N_iter=100))"
   ]
  },
  {
   "cell_type": "code",
   "execution_count": 18,
   "id": "abcb6352-c19b-4693-9724-50bd7e4572e5",
   "metadata": {
    "jupyter": {
     "source_hidden": true
    },
    "tags": []
   },
   "outputs": [],
   "source": [
    "age_max<-min(sims$age[which(sims$n_NS<=1)])+5\n",
    "sims<-sims[sims$age<(age_max),]\n",
    "rownames(sims)<-NULL\n",
    "age_prob<-sims %>% filter((S_alive/(S_alive+n_NS))>=min_s) %>% filter((S_alive/(S_alive+n_NS))<=max_s) %>% select(age)"
   ]
  },
  {
   "cell_type": "code",
   "execution_count": 19,
   "id": "0b7659e1-041c-4e51-95c5-150cead0509a",
   "metadata": {
    "jupyter": {
     "source_hidden": true
    },
    "tags": []
   },
   "outputs": [],
   "source": [
    "min_age<-min(as.matrix(age_prob))\n",
    "median_age<-median(as.matrix(age_prob))\n",
    "min_age_surv<-sims%>%filter(age==min_age)%>%mutate((S_alive+n_NS)/N*100,.keep=\"none\")%>%as.matrix()%>%min()\n",
    "median_age_surv<-sims%>%filter(age==median_age)%>%mutate((S_alive+n_NS)/N*100,.keep=\"none\")%>%as.matrix()%>%median()"
   ]
  },
  {
   "cell_type": "code",
   "execution_count": 20,
   "id": "f7a1010b-ad4a-470f-ac67-e7be00fcbb40",
   "metadata": {
    "jupyter": {
     "source_hidden": true
    },
    "tags": []
   },
   "outputs": [
    {
     "name": "stderr",
     "output_type": "stream",
     "text": [
      "Warning message:\n",
      "\"Duplicated aesthetics after name standardisation: size\"\n",
      "Warning message:\n",
      "\"Duplicated aesthetics after name standardisation: size\"\n",
      "Warning message:\n",
      "\"Duplicated aesthetics after name standardisation: size\"\n",
      "`geom_smooth()` using method = 'gam' and formula 'y ~ s(x, bs = \"cs\")'\n",
      "\n",
      "`geom_smooth()` using method = 'gam' and formula 'y ~ s(x, bs = \"cs\")'\n",
      "\n",
      "`geom_smooth()` using method = 'gam' and formula 'y ~ s(x, bs = \"cs\")'\n",
      "\n",
      "`geom_smooth()` using method = 'gam' and formula 'y ~ s(x, bs = \"cs\")'\n",
      "\n"
     ]
    },
    {
     "data": {
      "image/png": "[encoded data removed]",
      "text/plain": [
       "plot without title"
      ]
     },
     "metadata": {
      "image/png": {
       "height": 420,
       "width": 420
      }
     },
     "output_type": "display_data"
    }
   ],
   "source": [
    "#transparent_theme <- theme(\n",
    "#    axis.title.x = element_blank(),\n",
    "#    axis.title.y = element_blank(),\n",
    "#    axis.text.x = element_blank(), \n",
    "#    axis.text.y = element_blank(),\n",
    "#    axis.ticks = element_blank(),\n",
    "#    panel.grid = element_blank(),\n",
    "#    axis.line = element_blank(),\n",
    "#    panel.background = element_rect(fill = \"transparent\",colour = NA),\n",
    "#    plot.background = element_rect(fill = \"transparent\",colour = NA))\n",
    "\n",
    "#p<-ggplot(age_prob, aes(x=age,y=age))+\n",
    "#    geom_violin(draw_quantiles = c(0.25, 0.5, 0.75),trim=FALSE)+\n",
    "#    ylim(0,age_max)+\n",
    "#    transparent_theme+\n",
    "#    coord_flip()\n",
    "#p_grob<-ggplotGrob(p)\n",
    "\n",
    "surv_plot<-ggplot(sims)+\n",
    "    geom_jitter(aes(x=age,y=n_NS/N*100),size=0.1,color='dark grey', alpha=0.2)+\n",
    "    geom_smooth(aes(x=age,y=n_NS/N*100),color='dark grey', linetype='dotted')+\n",
    "    geom_jitter(aes(x=age,y=S_alive/N*100),size=0.1,color='deepskyblue3', alpha=0.1)+\n",
    "    geom_smooth(aes(x=age,y=S_alive/N*100),color='deepskyblue3', linetype='dotted')+\n",
    "    geom_smooth(aes(x=age,y=(n_NS+S_alive)/N*100),color='black')+\n",
    "    #annotate(\"rect\",xmin=min(sims[sims$S_alive>sims$n_NS,]$age), xmax=Inf, ymin=0, ymax=Inf, alpha=0.2, fill=\"black\", label=\"n Smurfs > n non-Smurfs\")\n",
    "    annotate(\"rect\",xmin=min_age, xmax=median_age, ymin=0, ymax=Inf, alpha=0.2, fill=\"red\")+ \n",
    "    geom_text(aes(x=min_age, y=-3,label=min_age),size=2,size=2)+\n",
    "    geom_text(aes(x=median_age, y=-3,label=median_age),size=2)+\n",
    "    geom_text(aes(x=0, y=min_age_surv,label=round(min_age_surv,1)),size=2,size=2,size=2,size=2)+\n",
    "    geom_text(aes(x=0, y=median_age_surv,label=round(median_age_surv,1)),size=2,size=2,size=2)+\n",
    "    annotate(\"rect\",xmin=0,xmax=median_age,ymax=min_age_surv,ymin=median_age_surv, alpha=0.2, fill=\"red\")+\n",
    "    xlim(0,age_max)+\n",
    "    xlab(\"Age (days)\")+\n",
    "    ylab(\"Populations sizes (norm. 100)\")\n",
    "    #annotation_custom(grob=p_grob,xmin=0,xmax=age_max,ymin=100, ymax=200)\n",
    "    \n",
    "age_dist<-ggplot(age_prob, aes(x=age))+\n",
    "    geom_histogram(aes(y=..density..), binwidth = 1,color='darkgray')+\n",
    "    annotate(\"rect\",xmin=min_age, xmax=median_age, ymin=0, ymax=Inf, alpha=0.2, fill=\"red\")+\n",
    "    xlim(0,age_max)+\n",
    "    xlab(\"Age (days)\")+\n",
    "    ylab(\"Data in %S range\") #+theme_minimal()\n",
    "\n",
    "smurf_prop<-ggplot(sims,(aes(x=age,y=(S_alive/(S_alive+n_NS))*100)))+\n",
    "    geom_jitter(color=\"deepskyblue3\", size=0.01, alpha=0.1)+\n",
    "    geom_smooth(color=\"deepskyblue3\",linetype='dotted')+\n",
    "    annotate(\"rect\",xmin=min_age, xmax=median_age, ymin=0, ymax=Inf, alpha=0.2, fill=\"red\")+\n",
    "    annotate(\"rect\",xmin=0, xmax=median_age, ymin=min_s*100, ymax=max_s*100, alpha=0.2, fill=\"red\")+\n",
    "    geom_text(aes(x=0, y=min_s*100,label=round(min_s*100,1)),size=2)+\n",
    "    geom_text(aes(x=0, y=max_s*100,label=round(max_s*100,1)),size=2)+\n",
    "    xlim(0,age_max)+\n",
    "    ylim(0,100)+\n",
    "    xlab(\"Age (days)\")+\n",
    "    ylab(\"% Smurfs\") #+theme_minimal()\n",
    "    #geom_line(aes(x=age,y=a*age+b),color='black')\n",
    "\n",
    "suppressWarnings(grid.arrange(smurf_prop, age_dist, surv_plot, ncol=1, nrow=3, heights=c(2,2,5)))"
   ]
  },
  {
   "cell_type": "code",
   "execution_count": 4,
   "id": "452f2897-f3f8-4552-9c3a-31c839f88f49",
   "metadata": {},
   "outputs": [
    {
     "ename": "ERROR",
     "evalue": "Error in a_dependancy[, 1]: nombre de dimensions incorrect\n",
     "output_type": "error",
     "traceback": [
      "Error in a_dependancy[, 1]: nombre de dimensions incorrect\nTraceback:\n",
      "1. cbind(cbind(\"a\", as.data.frame(cbind(c(a_dependancy[, 1], a_dependancy[, \n .     2]), c(a_dependancy[, 3], a_dependancy[, 4])))), a_dependancy[, \n .     5])",
      "2. cbind(\"a\", as.data.frame(cbind(c(a_dependancy[, 1], a_dependancy[, \n .     2]), c(a_dependancy[, 3], a_dependancy[, 4]))))",
      "3. as.data.frame(cbind(c(a_dependancy[, 1], a_dependancy[, 2]), \n .     c(a_dependancy[, 3], a_dependancy[, 4])))",
      "4. cbind(c(a_dependancy[, 1], a_dependancy[, 2]), c(a_dependancy[, \n .     3], a_dependancy[, 4]))"
     ]
    }
   ],
   "source": [
    "a_dependancy<-NA\n",
    "for(i in seq(0.01,0.085,0.1)){\n",
    "    sims<-suppressWarnings(multi_sim(N,a=i,b,k,max_s_prop,age_max=300,age_step, N_iter=10))\n",
    "    age_prob<-sims %>% filter((S_alive/(S_alive+n_NS))>=min_s) %>% filter((S_alive/(S_alive+n_NS))<=max_s) %>% select(age)\n",
    "    min_age<-min(as.matrix(age_prob))\n",
    "    pop_lifespan<-sims%>%filter((n_NS+S_alive)<0.5*N)%>%select(age)%>%as.matrix()%>%mean()%>%round()\n",
    "    median_age<-median(as.matrix(age_prob))\n",
    "    min_age_surv<-sims%>%filter(age==min_age)%>%mutate((S_alive+n_NS)/N*100,.keep=\"none\")%>%as.matrix()%>%min()\n",
    "    median_age_surv<-sims%>%filter(age==median_age)%>%mutate((S_alive+n_NS)/N*100,.keep=\"none\")%>%as.matrix()%>%median()\n",
    "    a_dependancy<-rbind(a_dependancy, c(min_age,median_age,min_age_surv,median_age_surv,pop_lifespan))\n",
    "    #print(c(min_age,median_age,min_age_surv,median_age_surv))\n",
    "    }\n",
    "colnames(a_dependancy)<-c('min_age','median_age','min_age_surv','median_age_surv','lifespan')\n",
    "rownames(a_dependancy)<-NULL\n",
    "a_dependancy<-a_dependancy[-1,]\n",
    "\n",
    "a_dependancy<-cbind(cbind(\"a\",as.data.frame(cbind(c(a_dependancy[,1],a_dependancy[,2]), c(a_dependancy[,3],a_dependancy[,4])))),a_dependancy[,5])\n",
    "colnames(a_dependancy)<-c(\"param\",\"chrono\",\"physio\",\"lifespan\")"
   ]
  },
  {
   "cell_type": "code",
   "execution_count": 22,
   "id": "9b4110a2-1410-4bfc-8f94-796d3a9d9707",
   "metadata": {},
   "outputs": [
    {
     "data": {
      "text/html": [
       "<dl class=dl-horizontal>\n",
       "\t<dt>min_age</dt>\n",
       "\t\t<dd>Inf</dd>\n",
       "\t<dt>median_age</dt>\n",
       "\t\t<dd>&lt;NA&gt;</dd>\n",
       "\t<dt>min_age_surv</dt>\n",
       "\t\t<dd>Inf</dd>\n",
       "\t<dt>median_age_surv</dt>\n",
       "\t\t<dd>&lt;NA&gt;</dd>\n",
       "\t<dt>lifespan</dt>\n",
       "\t\t<dd>NaN</dd>\n",
       "</dl>\n"
      ],
      "text/latex": [
       "\\begin{description*}\n",
       "\\item[min\\textbackslash{}\\_age] Inf\n",
       "\\item[median\\textbackslash{}\\_age] <NA>\n",
       "\\item[min\\textbackslash{}\\_age\\textbackslash{}\\_surv] Inf\n",
       "\\item[median\\textbackslash{}\\_age\\textbackslash{}\\_surv] <NA>\n",
       "\\item[lifespan] NaN\n",
       "\\end{description*}\n"
      ],
      "text/markdown": [
       "min_age\n",
       ":   Infmedian_age\n",
       ":   &lt;NA&gt;min_age_surv\n",
       ":   Infmedian_age_surv\n",
       ":   &lt;NA&gt;lifespan\n",
       ":   NaN\n",
       "\n"
      ],
      "text/plain": [
       "        min_age      median_age    min_age_surv median_age_surv        lifespan \n",
       "            Inf              NA             Inf              NA             NaN "
      ]
     },
     "metadata": {},
     "output_type": "display_data"
    }
   ],
   "source": [
    "a_dependancy"
   ]
  },
  {
   "cell_type": "code",
   "execution_count": null,
   "id": "da24b016-b95d-4edb-8d58-6bdf1a21330c",
   "metadata": {},
   "outputs": [],
   "source": []
  },
  {
   "cell_type": "code",
   "execution_count": null,
   "id": "8559041a-4be8-48b6-9c5e-f0dc54b2de6d",
   "metadata": {},
   "outputs": [],
   "source": [
    "b_dependancy<-NA\n",
    "for(i in seq(-0.09,0.09,0.001)){\n",
    "    sims<-suppressWarnings(multi_sim(N,a,b=i,k,max_s_prop,age_max=300,age_step, N_iter=10))\n",
    "    age_prob<-sims %>% filter((S_alive/(S_alive+n_NS))>=min_s) %>% filter((S_alive/(S_alive+n_NS))<=max_s) %>% select(age)\n",
    "    min_age<-min(as.matrix(age_prob))\n",
    "    pop_lifespan<-sims%>%filter((n_NS+S_alive)<0.5*N)%>%select(age)%>%as.matrix()%>%mean()%>%round()\n",
    "    median_age<-median(as.matrix(age_prob))\n",
    "    min_age_surv<-sims%>%filter(age==min_age)%>%mutate((S_alive+n_NS)/N*100,.keep=\"none\")%>%as.matrix()%>%min()\n",
    "    median_age_surv<-sims%>%filter(age==median_age)%>%mutate((S_alive+n_NS)/N*100,.keep=\"none\")%>%as.matrix()%>%median()\n",
    "    b_dependancy<-rbind(b_dependancy, c(min_age,median_age,min_age_surv,median_age_surv,pop_lifespan))\n",
    "    #print(c(min_age,median_age,min_age_surv,median_age_surv))\n",
    "    }\n",
    "colnames(b_dependancy)<-c('min_age','median_age','min_age_surv','median_age_surv','lifespan')\n",
    "rownames(b_dependancy)<-NULL\n",
    "b_dependancy<-b_dependancy[-1,]\n",
    "\n",
    "b_dependancy<-cbind(cbind(\"b\",as.data.frame(cbind(c(b_dependancy[,1],b_dependancy[,2]), c(b_dependancy[,3],b_dependancy[,4])))),b_dependancy[,5])\n",
    "colnames(b_dependancy)<-c(\"param\",\"chrono\",\"physio\",\"lifespan\")"
   ]
  },
  {
   "cell_type": "code",
   "execution_count": null,
   "id": "4ad30544-900b-494a-baff-5fa22391d738",
   "metadata": {},
   "outputs": [],
   "source": [
    "k_dependancy<-NA\n",
    "for(i in seq(0.1,0.9,0.001)){\n",
    "    sims<-suppressWarnings(multi_sim(N,a,b,k=i,max_s_prop,age_max=300,age_step, N_iter=10))\n",
    "    age_prob<-sims %>% filter((S_alive/(S_alive+n_NS))>=min_s) %>% filter((S_alive/(S_alive+n_NS))<=max_s) %>% select(age)\n",
    "    min_age<-min(as.matrix(age_prob))\n",
    "    median_age<-median(as.matrix(age_prob))\n",
    "    pop_lifespan<-sims%>%filter((n_NS+S_alive)<0.5*N)%>%select(age)%>%as.matrix()%>%mean()%>%round()\n",
    "    min_age_surv<-sims%>%filter(age==min_age)%>%mutate((S_alive+n_NS)/N*100,.keep=\"none\")%>%as.matrix()%>%min()\n",
    "    median_age_surv<-sims%>%filter(age==median_age)%>%mutate((S_alive+n_NS)/N*100,.keep=\"none\")%>%as.matrix()%>%median()\n",
    "    k_dependancy<-rbind(k_dependancy, c(min_age,median_age,min_age_surv,median_age_surv,pop_lifespan))\n",
    "    #print(c(min_age,median_age,min_age_surv,median_age_surv))\n",
    "    }\n",
    "colnames(k_dependancy)<-c('min_age','median_age','min_age_surv','median_age_surv','lifespan')\n",
    "rownames(k_dependancy)<-NULL\n",
    "k_dependancy<-k_dependancy[-1,]\n",
    "\n",
    "k_dependancy<-cbind(cbind(\"k\",as.data.frame(cbind(c(k_dependancy[,1],k_dependancy[,2]), c(k_dependancy[,3],k_dependancy[,4])))),k_dependancy[,5])\n",
    "colnames(k_dependancy)<-c(\"param\",\"chrono\",\"physio\",\"lifespan\")"
   ]
  },
  {
   "cell_type": "code",
   "execution_count": null,
   "id": "c33f9fd2-d294-4704-b1d4-c665db7040ff",
   "metadata": {},
   "outputs": [],
   "source": []
  },
  {
   "cell_type": "code",
   "execution_count": null,
   "id": "34c54da9-dd52-4f8a-8c18-db81dbe67b18",
   "metadata": {},
   "outputs": [],
   "source": []
  },
  {
   "cell_type": "code",
   "execution_count": 5,
   "id": "62d678e0-7f8f-4221-bbde-de3e425e2b4f",
   "metadata": {},
   "outputs": [],
   "source": [
    "abk_dependancy<-NA"
   ]
  },
  {
   "cell_type": "code",
   "execution_count": 34,
   "id": "d97f9a92-8ef9-4993-8fdc-f56d1b2f4c7b",
   "metadata": {},
   "outputs": [
    {
     "data": {
      "text/html": [
       "0.01"
      ],
      "text/latex": [
       "0.01"
      ],
      "text/markdown": [
       "0.01"
      ],
      "text/plain": [
       "[1] 0.01"
      ]
     },
     "metadata": {},
     "output_type": "display_data"
    },
    {
     "data": {
      "text/html": [
       "-0.76"
      ],
      "text/latex": [
       "-0.76"
      ],
      "text/markdown": [
       "-0.76"
      ],
      "text/plain": [
       "[1] -0.76"
      ]
     },
     "metadata": {},
     "output_type": "display_data"
    },
    {
     "data": {
      "text/html": [
       "0.34"
      ],
      "text/latex": [
       "0.34"
      ],
      "text/markdown": [
       "0.34"
      ],
      "text/plain": [
       "[1] 0.34"
      ]
     },
     "metadata": {},
     "output_type": "display_data"
    }
   ],
   "source": [
    "\n",
    "#n_sims<-10\n",
    "#for(i in 1:n_sims){\n",
    "    a=round(runif(1,0.005,0.085),3)\n",
    "    b=round(runif(1,-0.9,0.9),2)\n",
    "    k=round(runif(1,0.1,0.9),2)\n",
    "a; b; k"
   ]
  },
  {
   "cell_type": "code",
   "execution_count": 35,
   "id": "3f737e72-3216-4f28-8e15-0ea4a13cf5f3",
   "metadata": {},
   "outputs": [],
   "source": [
    "    sims<-suppressWarnings(multi_sim(N,a,b,k,max_s_prop,age_max,age_step, N_iter=10))"
   ]
  },
  {
   "cell_type": "code",
   "execution_count": 36,
   "id": "ccdf5c88-50df-4d26-9333-35a98c72c903",
   "metadata": {},
   "outputs": [
    {
     "data": {
      "text/html": [
       "<table>\n",
       "<thead><tr><th scope=col>age</th><th scope=col>replicats</th><th scope=col>Smurf_prop</th><th scope=col>n_NS</th><th scope=col>n_S</th><th scope=col>S_alive</th></tr></thead>\n",
       "<tbody>\n",
       "\t<tr><td>0   </td><td>1   </td><td>0   </td><td>1000</td><td>0   </td><td>0   </td></tr>\n",
       "\t<tr><td>1   </td><td>1   </td><td>0   </td><td>1000</td><td>0   </td><td>0   </td></tr>\n",
       "\t<tr><td>2   </td><td>1   </td><td>0   </td><td>1000</td><td>0   </td><td>0   </td></tr>\n",
       "\t<tr><td>3   </td><td>1   </td><td>0   </td><td>1000</td><td>0   </td><td>0   </td></tr>\n",
       "\t<tr><td>4   </td><td>1   </td><td>0   </td><td>1000</td><td>0   </td><td>0   </td></tr>\n",
       "\t<tr><td>5   </td><td>1   </td><td>0   </td><td>1000</td><td>0   </td><td>0   </td></tr>\n",
       "</tbody>\n",
       "</table>\n"
      ],
      "text/latex": [
       "\\begin{tabular}{r|llllll}\n",
       " age & replicats & Smurf\\_prop & n\\_NS & n\\_S & S\\_alive\\\\\n",
       "\\hline\n",
       "\t 0    & 1    & 0    & 1000 & 0    & 0   \\\\\n",
       "\t 1    & 1    & 0    & 1000 & 0    & 0   \\\\\n",
       "\t 2    & 1    & 0    & 1000 & 0    & 0   \\\\\n",
       "\t 3    & 1    & 0    & 1000 & 0    & 0   \\\\\n",
       "\t 4    & 1    & 0    & 1000 & 0    & 0   \\\\\n",
       "\t 5    & 1    & 0    & 1000 & 0    & 0   \\\\\n",
       "\\end{tabular}\n"
      ],
      "text/markdown": [
       "\n",
       "| age | replicats | Smurf_prop | n_NS | n_S | S_alive |\n",
       "|---|---|---|---|---|---|\n",
       "| 0    | 1    | 0    | 1000 | 0    | 0    |\n",
       "| 1    | 1    | 0    | 1000 | 0    | 0    |\n",
       "| 2    | 1    | 0    | 1000 | 0    | 0    |\n",
       "| 3    | 1    | 0    | 1000 | 0    | 0    |\n",
       "| 4    | 1    | 0    | 1000 | 0    | 0    |\n",
       "| 5    | 1    | 0    | 1000 | 0    | 0    |\n",
       "\n"
      ],
      "text/plain": [
       "  age replicats Smurf_prop n_NS n_S S_alive\n",
       "1 0   1         0          1000 0   0      \n",
       "2 1   1         0          1000 0   0      \n",
       "3 2   1         0          1000 0   0      \n",
       "4 3   1         0          1000 0   0      \n",
       "5 4   1         0          1000 0   0      \n",
       "6 5   1         0          1000 0   0      "
      ]
     },
     "metadata": {},
     "output_type": "display_data"
    },
    {
     "data": {
      "text/html": [
       "<table>\n",
       "<thead><tr><th></th><th scope=col>age</th><th scope=col>replicats</th><th scope=col>Smurf_prop</th><th scope=col>n_NS</th><th scope=col>n_S</th><th scope=col>S_alive</th></tr></thead>\n",
       "<tbody>\n",
       "\t<tr><th scope=row>1485</th><td>143       </td><td>10        </td><td>1.23205020</td><td>0         </td><td>0         </td><td>0         </td></tr>\n",
       "\t<tr><th scope=row>1486</th><td>144       </td><td>10        </td><td>0.53601019</td><td>0         </td><td>0         </td><td>0         </td></tr>\n",
       "\t<tr><th scope=row>1487</th><td>145       </td><td>10        </td><td>0.54329944</td><td>0         </td><td>0         </td><td>0         </td></tr>\n",
       "\t<tr><th scope=row>1488</th><td>146       </td><td>10        </td><td>0.49374444</td><td>0         </td><td>0         </td><td>0         </td></tr>\n",
       "\t<tr><th scope=row>1489</th><td>147       </td><td>10        </td><td>0.20067913</td><td>0         </td><td>0         </td><td>0         </td></tr>\n",
       "\t<tr><th scope=row>1490</th><td>148       </td><td>10        </td><td>0.06859822</td><td>0         </td><td>0         </td><td>0         </td></tr>\n",
       "</tbody>\n",
       "</table>\n"
      ],
      "text/latex": [
       "\\begin{tabular}{r|llllll}\n",
       "  & age & replicats & Smurf\\_prop & n\\_NS & n\\_S & S\\_alive\\\\\n",
       "\\hline\n",
       "\t1485 & 143        & 10         & 1.23205020 & 0          & 0          & 0         \\\\\n",
       "\t1486 & 144        & 10         & 0.53601019 & 0          & 0          & 0         \\\\\n",
       "\t1487 & 145        & 10         & 0.54329944 & 0          & 0          & 0         \\\\\n",
       "\t1488 & 146        & 10         & 0.49374444 & 0          & 0          & 0         \\\\\n",
       "\t1489 & 147        & 10         & 0.20067913 & 0          & 0          & 0         \\\\\n",
       "\t1490 & 148        & 10         & 0.06859822 & 0          & 0          & 0         \\\\\n",
       "\\end{tabular}\n"
      ],
      "text/markdown": [
       "\n",
       "| <!--/--> | age | replicats | Smurf_prop | n_NS | n_S | S_alive |\n",
       "|---|---|---|---|---|---|---|\n",
       "| 1485 | 143        | 10         | 1.23205020 | 0          | 0          | 0          |\n",
       "| 1486 | 144        | 10         | 0.53601019 | 0          | 0          | 0          |\n",
       "| 1487 | 145        | 10         | 0.54329944 | 0          | 0          | 0          |\n",
       "| 1488 | 146        | 10         | 0.49374444 | 0          | 0          | 0          |\n",
       "| 1489 | 147        | 10         | 0.20067913 | 0          | 0          | 0          |\n",
       "| 1490 | 148        | 10         | 0.06859822 | 0          | 0          | 0          |\n",
       "\n"
      ],
      "text/plain": [
       "     age replicats Smurf_prop n_NS n_S S_alive\n",
       "1485 143 10        1.23205020 0    0   0      \n",
       "1486 144 10        0.53601019 0    0   0      \n",
       "1487 145 10        0.54329944 0    0   0      \n",
       "1488 146 10        0.49374444 0    0   0      \n",
       "1489 147 10        0.20067913 0    0   0      \n",
       "1490 148 10        0.06859822 0    0   0      "
      ]
     },
     "metadata": {},
     "output_type": "display_data"
    }
   ],
   "source": [
    "head(sims)\n",
    "tail(sims)"
   ]
  },
  {
   "cell_type": "code",
   "execution_count": 37,
   "id": "dbdce36a-bf4a-4a59-8583-41bff93ff597",
   "metadata": {},
   "outputs": [],
   "source": [
    "    age_prob<-sims %>% filter((S_alive/(S_alive+n_NS))>=min_s) %>% filter((S_alive/(S_alive+n_NS))<=max_s) %>% select(age)\n",
    "    min_age<-min(as.matrix(age_prob))\n",
    "    median_age<-median(as.matrix(age_prob))\n",
    "    pop_lifespan<-sims%>%filter((n_NS+S_alive)<0.5*N)%>%select(age)%>%as.matrix()%>%mean()%>%round()\n",
    "    min_age_surv<-sims%>%filter(age==min_age)%>%mutate((S_alive+n_NS)/N*100,.keep=\"none\")%>%as.matrix()%>%min()\n",
    "    median_age_surv<-sims%>%filter(age==median_age)%>%mutate((S_alive+n_NS)/N*100,.keep=\"none\")%>%as.matrix()%>%median()"
   ]
  },
  {
   "cell_type": "code",
   "execution_count": 38,
   "id": "553df183-6686-4583-9834-386cbaf403f7",
   "metadata": {},
   "outputs": [
    {
     "data": {
      "text/html": [
       "<table>\n",
       "<thead><tr><th scope=col>min_age</th><th scope=col>median_age</th><th scope=col>min_age_surv</th><th scope=col>median_age_surv</th><th scope=col>lifespan</th><th scope=col>a</th><th scope=col>b</th><th scope=col>k</th></tr></thead>\n",
       "<tbody>\n",
       "\t<tr><td>Inf  </td><td>NA   </td><td> Inf </td><td>   NA</td><td> 76  </td><td>0.047</td><td> 0.61</td><td>0.51 </td></tr>\n",
       "\t<tr><td>  8  </td><td>13   </td><td>96.1 </td><td>80.15</td><td> 84  </td><td>0.009</td><td>-0.05</td><td>0.68 </td></tr>\n",
       "\t<tr><td>  5  </td><td> 5   </td><td>69.3 </td><td>81.65</td><td> 78  </td><td>0.082</td><td>-0.25</td><td>0.26 </td></tr>\n",
       "\t<tr><td> 79  </td><td>81   </td><td>93.9 </td><td>87.45</td><td>118  </td><td>0.010</td><td>-0.76</td><td>0.34 </td></tr>\n",
       "</tbody>\n",
       "</table>\n"
      ],
      "text/latex": [
       "\\begin{tabular}{llllllll}\n",
       " min\\_age & median\\_age & min\\_age\\_surv & median\\_age\\_surv & lifespan & a & b & k\\\\\n",
       "\\hline\n",
       "\t Inf   & NA    &  Inf  &    NA &  76   & 0.047 &  0.61 & 0.51 \\\\\n",
       "\t   8   & 13    & 96.1  & 80.15 &  84   & 0.009 & -0.05 & 0.68 \\\\\n",
       "\t   5   &  5    & 69.3  & 81.65 &  78   & 0.082 & -0.25 & 0.26 \\\\\n",
       "\t  79   & 81    & 93.9  & 87.45 & 118   & 0.010 & -0.76 & 0.34 \\\\\n",
       "\\end{tabular}\n"
      ],
      "text/markdown": [
       "\n",
       "| min_age | median_age | min_age_surv | median_age_surv | lifespan | a | b | k |\n",
       "|---|---|---|---|---|---|---|---|\n",
       "| Inf   | NA    |  Inf  |    NA |  76   | 0.047 |  0.61 | 0.51  |\n",
       "|   8   | 13    | 96.1  | 80.15 |  84   | 0.009 | -0.05 | 0.68  |\n",
       "|   5   |  5    | 69.3  | 81.65 |  78   | 0.082 | -0.25 | 0.26  |\n",
       "|  79   | 81    | 93.9  | 87.45 | 118   | 0.010 | -0.76 | 0.34  |\n",
       "\n"
      ],
      "text/plain": [
       "     min_age median_age min_age_surv median_age_surv lifespan a     b     k   \n",
       "[1,] Inf     NA          Inf            NA            76      0.047  0.61 0.51\n",
       "[2,]   8     13         96.1         80.15            84      0.009 -0.05 0.68\n",
       "[3,]   5      5         69.3         81.65            78      0.082 -0.25 0.26\n",
       "[4,]  79     81         93.9         87.45           118      0.010 -0.76 0.34"
      ]
     },
     "metadata": {},
     "output_type": "display_data"
    }
   ],
   "source": [
    "rbind(abk_dependancy, c(min_age,median_age,min_age_surv,median_age_surv,pop_lifespan,a,b,k))"
   ]
  },
  {
   "cell_type": "code",
   "execution_count": 39,
   "id": "8a353950-ad95-4c4d-b53a-98e2bf257695",
   "metadata": {},
   "outputs": [],
   "source": [
    "    abk_dependancy<-rbind(abk_dependancy, c(min_age,median_age,min_age_surv,median_age_surv,pop_lifespan,a,b,k))\n",
    "    #print(c(min_age,median_age,min_age_surv,median_age_surv))\n",
    "#    }"
   ]
  },
  {
   "cell_type": "code",
   "execution_count": 40,
   "id": "6a4070dd-f4e1-4294-870b-755e178439bd",
   "metadata": {},
   "outputs": [
    {
     "data": {
      "text/html": [
       "<table>\n",
       "<thead><tr><th scope=col>min_age</th><th scope=col>median_age</th><th scope=col>min_age_surv</th><th scope=col>median_age_surv</th><th scope=col>lifespan</th><th scope=col>a</th><th scope=col>b</th><th scope=col>k</th></tr></thead>\n",
       "<tbody>\n",
       "\t<tr><td>Inf  </td><td>NA   </td><td> Inf </td><td>   NA</td><td> 76  </td><td>0.047</td><td> 0.61</td><td>0.51 </td></tr>\n",
       "\t<tr><td>  8  </td><td>13   </td><td>96.1 </td><td>80.15</td><td> 84  </td><td>0.009</td><td>-0.05</td><td>0.68 </td></tr>\n",
       "\t<tr><td>  5  </td><td> 5   </td><td>69.3 </td><td>81.65</td><td> 78  </td><td>0.082</td><td>-0.25</td><td>0.26 </td></tr>\n",
       "\t<tr><td> 79  </td><td>81   </td><td>93.9 </td><td>87.45</td><td>118  </td><td>0.010</td><td>-0.76</td><td>0.34 </td></tr>\n",
       "</tbody>\n",
       "</table>\n"
      ],
      "text/latex": [
       "\\begin{tabular}{llllllll}\n",
       " min\\_age & median\\_age & min\\_age\\_surv & median\\_age\\_surv & lifespan & a & b & k\\\\\n",
       "\\hline\n",
       "\t Inf   & NA    &  Inf  &    NA &  76   & 0.047 &  0.61 & 0.51 \\\\\n",
       "\t   8   & 13    & 96.1  & 80.15 &  84   & 0.009 & -0.05 & 0.68 \\\\\n",
       "\t   5   &  5    & 69.3  & 81.65 &  78   & 0.082 & -0.25 & 0.26 \\\\\n",
       "\t  79   & 81    & 93.9  & 87.45 & 118   & 0.010 & -0.76 & 0.34 \\\\\n",
       "\\end{tabular}\n"
      ],
      "text/markdown": [
       "\n",
       "| min_age | median_age | min_age_surv | median_age_surv | lifespan | a | b | k |\n",
       "|---|---|---|---|---|---|---|---|\n",
       "| Inf   | NA    |  Inf  |    NA |  76   | 0.047 |  0.61 | 0.51  |\n",
       "|   8   | 13    | 96.1  | 80.15 |  84   | 0.009 | -0.05 | 0.68  |\n",
       "|   5   |  5    | 69.3  | 81.65 |  78   | 0.082 | -0.25 | 0.26  |\n",
       "|  79   | 81    | 93.9  | 87.45 | 118   | 0.010 | -0.76 | 0.34  |\n",
       "\n"
      ],
      "text/plain": [
       "     min_age median_age min_age_surv median_age_surv lifespan a     b     k   \n",
       "[1,] Inf     NA          Inf            NA            76      0.047  0.61 0.51\n",
       "[2,]   8     13         96.1         80.15            84      0.009 -0.05 0.68\n",
       "[3,]   5      5         69.3         81.65            78      0.082 -0.25 0.26\n",
       "[4,]  79     81         93.9         87.45           118      0.010 -0.76 0.34"
      ]
     },
     "metadata": {},
     "output_type": "display_data"
    }
   ],
   "source": [
    "abk_dependancy"
   ]
  },
  {
   "cell_type": "code",
   "execution_count": 41,
   "id": "4864c8ae-6af3-4405-a215-4ff2e7b40ac2",
   "metadata": {},
   "outputs": [],
   "source": [
    "colnames(abk_dependancy)<-c('min_age','median_age','min_age_surv','median_age_surv','lifespan','a','b','k')\n",
    "rownames(abk_dependancy)<-NULL\n",
    "#abk_dependancy<-abk_dependancy[-1,]\n",
    "\n",
    "#abk_dependancy<-cbind(cbind(as.data.frame(cbind(c(abk_dependancy[,1],abk_dependancy[,2]), c(abk_dependancy[,3],abk_dependancy[,4])))),abk_dependancy[,5])\n",
    "#colnames(abk_dependancy)<-c(\"param\",\"chrono\",\"physio\",\"lifespan\")"
   ]
  },
  {
   "cell_type": "code",
   "execution_count": 42,
   "id": "aadb0aec-4446-465f-8747-4035dd41d1ea",
   "metadata": {},
   "outputs": [
    {
     "data": {
      "text/html": [
       "<table>\n",
       "<thead><tr><th scope=col>min_age</th><th scope=col>median_age</th><th scope=col>min_age_surv</th><th scope=col>median_age_surv</th><th scope=col>lifespan</th><th scope=col>a</th><th scope=col>b</th><th scope=col>k</th></tr></thead>\n",
       "<tbody>\n",
       "\t<tr><td>Inf  </td><td>NA   </td><td> Inf </td><td>   NA</td><td> 76  </td><td>0.047</td><td> 0.61</td><td>0.51 </td></tr>\n",
       "\t<tr><td>  8  </td><td>13   </td><td>96.1 </td><td>80.15</td><td> 84  </td><td>0.009</td><td>-0.05</td><td>0.68 </td></tr>\n",
       "\t<tr><td>  5  </td><td> 5   </td><td>69.3 </td><td>81.65</td><td> 78  </td><td>0.082</td><td>-0.25</td><td>0.26 </td></tr>\n",
       "\t<tr><td> 79  </td><td>81   </td><td>93.9 </td><td>87.45</td><td>118  </td><td>0.010</td><td>-0.76</td><td>0.34 </td></tr>\n",
       "</tbody>\n",
       "</table>\n"
      ],
      "text/latex": [
       "\\begin{tabular}{llllllll}\n",
       " min\\_age & median\\_age & min\\_age\\_surv & median\\_age\\_surv & lifespan & a & b & k\\\\\n",
       "\\hline\n",
       "\t Inf   & NA    &  Inf  &    NA &  76   & 0.047 &  0.61 & 0.51 \\\\\n",
       "\t   8   & 13    & 96.1  & 80.15 &  84   & 0.009 & -0.05 & 0.68 \\\\\n",
       "\t   5   &  5    & 69.3  & 81.65 &  78   & 0.082 & -0.25 & 0.26 \\\\\n",
       "\t  79   & 81    & 93.9  & 87.45 & 118   & 0.010 & -0.76 & 0.34 \\\\\n",
       "\\end{tabular}\n"
      ],
      "text/markdown": [
       "\n",
       "| min_age | median_age | min_age_surv | median_age_surv | lifespan | a | b | k |\n",
       "|---|---|---|---|---|---|---|---|\n",
       "| Inf   | NA    |  Inf  |    NA |  76   | 0.047 |  0.61 | 0.51  |\n",
       "|   8   | 13    | 96.1  | 80.15 |  84   | 0.009 | -0.05 | 0.68  |\n",
       "|   5   |  5    | 69.3  | 81.65 |  78   | 0.082 | -0.25 | 0.26  |\n",
       "|  79   | 81    | 93.9  | 87.45 | 118   | 0.010 | -0.76 | 0.34  |\n",
       "\n"
      ],
      "text/plain": [
       "     min_age median_age min_age_surv median_age_surv lifespan a     b     k   \n",
       "[1,] Inf     NA          Inf            NA            76      0.047  0.61 0.51\n",
       "[2,]   8     13         96.1         80.15            84      0.009 -0.05 0.68\n",
       "[3,]   5      5         69.3         81.65            78      0.082 -0.25 0.26\n",
       "[4,]  79     81         93.9         87.45           118      0.010 -0.76 0.34"
      ]
     },
     "metadata": {},
     "output_type": "display_data"
    }
   ],
   "source": [
    "abk_dependancy"
   ]
  },
  {
   "cell_type": "code",
   "execution_count": null,
   "id": "43f4e7cd-ff9e-4597-b733-65b987ea613b",
   "metadata": {},
   "outputs": [],
   "source": [
    "a=round(runif(1,0.005,0.085),3)\n",
    "b=round(runif(1,-0.9,0.9),2)\n",
    "k=round(runif(1,0.1,0.9),2)\n",
    "test<- suppressWarnings(multi_sim(N=1000,a,b,k,max_s_prop,age_max,age_step, N_iter=10))\n",
    "#test<-as.data.frame(test)\n",
    "#ggplot(test,aes(x=chrono/lifespan,y=physio/100,color=lifespan))+\n",
    "#    geom_jitter(aes(color=param))+\n",
    "#    geom_density_2d()"
   ]
  },
  {
   "cell_type": "code",
   "execution_count": null,
   "id": "e35c5876-85ee-4f8b-8e8c-8e562fb6e14b",
   "metadata": {},
   "outputs": [],
   "source": [
    "test<-as.data.frame(rbind(a_dependancy,b_dependancy,k_dependancy))\n",
    "ggplot(test,aes(x=chrono/lifespan,y=physio/100,color=lifespan))+\n",
    "    geom_jitter(aes(color=param))+\n",
    "    geom_density_2d()"
   ]
  }
 ],
 "metadata": {
  "kernelspec": {
   "display_name": "R",
   "language": "R",
   "name": "ir"
  },
  "language_info": {
   "codemirror_mode": "r",
   "file_extension": ".r",
   "mimetype": "text/x-r-source",
   "name": "R",
   "pygments_lexer": "r",
   "version": "3.6.1"
  }
 },
 "nbformat": 4,
 "nbformat_minor": 5
}
